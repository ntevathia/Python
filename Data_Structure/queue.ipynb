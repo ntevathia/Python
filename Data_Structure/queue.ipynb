{
 "cells": [
  {
   "cell_type": "markdown",
   "metadata": {},
   "source": [
    "## Array Implementation"
   ]
  },
  {
   "cell_type": "code",
   "execution_count": 9,
   "metadata": {},
   "outputs": [],
   "source": [
    "class Queue:\n",
    "    def __init__(self):\n",
    "        self.data = []\n",
    "        self.size = 0\n",
    "        \n",
    "    def enqueue(self, value):\n",
    "        self.data.append(value)   # add to rear\n",
    "        self.size += 1\n",
    "        print(f\"Added {value}\")\n",
    "        \n",
    "    def dequeue(self):\n",
    "        if self.size == 0:\n",
    "            print(\"Empty!!\")\n",
    "        else:\n",
    "            self.size -= 1 \n",
    "            return self.data.pop(0)  # remove from front\n",
    "       \n",
    "    def is_empty(self):\n",
    "        return self.size == 0\n",
    "\n",
    "    def __str__(self):\n",
    "        return str(self.data)   "
   ]
  },
  {
   "cell_type": "code",
   "execution_count": 10,
   "metadata": {},
   "outputs": [],
   "source": [
    "front = Queue()"
   ]
  },
  {
   "cell_type": "code",
   "execution_count": 11,
   "metadata": {},
   "outputs": [
    {
     "name": "stdout",
     "output_type": "stream",
     "text": [
      "Added 1\n",
      "Added 11\n",
      "Added 91\n",
      "Added 13\n",
      "Added 16\n"
     ]
    }
   ],
   "source": [
    "front.enqueue(1)\n",
    "front.enqueue(11)\n",
    "front.enqueue(91)\n",
    "front.enqueue(13)\n",
    "front.enqueue(16)"
   ]
  },
  {
   "cell_type": "code",
   "execution_count": 12,
   "metadata": {},
   "outputs": [
    {
     "data": {
      "text/plain": [
       "[1, 11, 91, 13, 16]"
      ]
     },
     "execution_count": 12,
     "metadata": {},
     "output_type": "execute_result"
    }
   ],
   "source": [
    "front.data"
   ]
  },
  {
   "cell_type": "code",
   "execution_count": 13,
   "metadata": {},
   "outputs": [
    {
     "data": {
      "text/plain": [
       "1"
      ]
     },
     "execution_count": 13,
     "metadata": {},
     "output_type": "execute_result"
    }
   ],
   "source": [
    "front.dequeue()"
   ]
  },
  {
   "cell_type": "code",
   "execution_count": 14,
   "metadata": {},
   "outputs": [
    {
     "data": {
      "text/plain": [
       "[11, 91, 13, 16]"
      ]
     },
     "execution_count": 14,
     "metadata": {},
     "output_type": "execute_result"
    }
   ],
   "source": [
    "front.data"
   ]
  },
  {
   "cell_type": "code",
   "execution_count": 15,
   "metadata": {},
   "outputs": [
    {
     "data": {
      "text/plain": [
       "4"
      ]
     },
     "execution_count": 15,
     "metadata": {},
     "output_type": "execute_result"
    }
   ],
   "source": [
    "front.size"
   ]
  },
  {
   "cell_type": "code",
   "execution_count": 16,
   "metadata": {},
   "outputs": [
    {
     "data": {
      "text/plain": [
       "False"
      ]
     },
     "execution_count": 16,
     "metadata": {},
     "output_type": "execute_result"
    }
   ],
   "source": [
    "front.is_empty()"
   ]
  },
  {
   "cell_type": "code",
   "execution_count": 17,
   "metadata": {},
   "outputs": [
    {
     "name": "stdout",
     "output_type": "stream",
     "text": [
      "[11, 91, 13, 16]\n"
     ]
    }
   ],
   "source": [
    "print(front)"
   ]
  },
  {
   "cell_type": "code",
   "execution_count": 18,
   "metadata": {},
   "outputs": [
    {
     "data": {
      "text/plain": [
       "11"
      ]
     },
     "execution_count": 18,
     "metadata": {},
     "output_type": "execute_result"
    }
   ],
   "source": [
    "front.dequeue()"
   ]
  },
  {
   "cell_type": "code",
   "execution_count": 20,
   "metadata": {},
   "outputs": [
    {
     "data": {
      "text/plain": [
       "[91, 13, 16]"
      ]
     },
     "execution_count": 20,
     "metadata": {},
     "output_type": "execute_result"
    }
   ],
   "source": [
    "front.data"
   ]
  },
  {
   "cell_type": "markdown",
   "metadata": {},
   "source": [
    "## LinkedList Implementation"
   ]
  },
  {
   "cell_type": "code",
   "execution_count": 21,
   "metadata": {},
   "outputs": [],
   "source": [
    "class QueueNode:\n",
    "    def __init__(self, value):\n",
    "        self.data = value\n",
    "        self.next = None\n",
    "        \n",
    "class Queue:\n",
    "    def __init__(self):\n",
    "        self.root = None\n",
    "    \n",
    "    def enqueue(self, value):\n",
    "        Node = QueueNode(value)\n",
    "        if self.root == None:\n",
    "            self.root = Node\n",
    "        else:\n",
    "            p = self.root \n",
    "            while p.next != None:\n",
    "                p = p.next\n",
    "            p.next = Node             # add to rear end\n",
    "        print(f\"Added {value}\")\n",
    "        \n",
    "    def dequeue(self):\n",
    "        if self.is_empty():\n",
    "            print(\"Empty!!\")\n",
    "        else:\n",
    "            val = self.root.data\n",
    "            self.root = self.root.next\n",
    "            return val            # remove from front\n",
    "       \n",
    "    def is_empty(self):\n",
    "        return self.root == None\n"
   ]
  },
  {
   "cell_type": "code",
   "execution_count": 22,
   "metadata": {},
   "outputs": [],
   "source": [
    "from lolviz import *"
   ]
  },
  {
   "cell_type": "code",
   "execution_count": 23,
   "metadata": {},
   "outputs": [],
   "source": [
    "front = Queue()"
   ]
  },
  {
   "cell_type": "code",
   "execution_count": 24,
   "metadata": {},
   "outputs": [
    {
     "name": "stdout",
     "output_type": "stream",
     "text": [
      "Added 1\n",
      "Added 11\n",
      "Added 91\n",
      "Added 13\n",
      "Added 16\n"
     ]
    }
   ],
   "source": [
    "front.enqueue(1)\n",
    "front.enqueue(11)\n",
    "front.enqueue(91)\n",
    "front.enqueue(13)\n",
    "front.enqueue(16)"
   ]
  },
  {
   "cell_type": "code",
   "execution_count": 25,
   "metadata": {},
   "outputs": [
    {
     "data": {
      "image/svg+xml": [
       "<?xml version=\"1.0\" encoding=\"UTF-8\" standalone=\"no\"?>\n",
       "<!DOCTYPE svg PUBLIC \"-//W3C//DTD SVG 1.1//EN\"\n",
       " \"http://www.w3.org/Graphics/SVG/1.1/DTD/svg11.dtd\">\n",
       "<!-- Generated by graphviz version 2.40.1 (20161225.0304)\n",
       " -->\n",
       "<!-- Title: G Pages: 1 -->\n",
       "<svg width=\"461pt\" height=\"88pt\"\n",
       " viewBox=\"0.00 0.00 461.00 88.00\" xmlns=\"http://www.w3.org/2000/svg\" xmlns:xlink=\"http://www.w3.org/1999/xlink\">\n",
       "<g id=\"graph0\" class=\"graph\" transform=\"scale(1 1) rotate(0) translate(4 84)\">\n",
       "<title>G</title>\n",
       "<polygon fill=\"#ffffff\" stroke=\"transparent\" points=\"-4,4 -4,-84 457,-84 457,4 -4,4\"/>\n",
       "<g id=\"clust1\" class=\"cluster\">\n",
       "<title>cluster1</title>\n",
       "</g>\n",
       "<!-- node4404616720 -->\n",
       "<g id=\"node1\" class=\"node\">\n",
       "<title>node4404616720</title>\n",
       "<polygon fill=\"#fefecd\" stroke=\"#444443\" stroke-width=\".5\" points=\"279,-63.5 222,-63.5 222,-16.5 279,-16.5 279,-63.5\"/>\n",
       "<polygon fill=\"#fefecd\" stroke=\"transparent\" points=\"224.5,-48 224.5,-61 277.5,-61 277.5,-48 224.5,-48\"/>\n",
       "<polyline fill=\"none\" stroke=\"#444443\" points=\"224.5,-48 277.5,-48 \"/>\n",
       "<text text-anchor=\"start\" x=\"225.0361\" y=\"-51.2\" font-family=\"Times,serif\" font-style=\"italic\" font-size=\"11.00\" fill=\"#444443\">QueueNode</text>\n",
       "<polygon fill=\"#fefecd\" stroke=\"transparent\" points=\"224.5,-46 224.5,-48 277.5,-48 277.5,-46 224.5,-46\"/>\n",
       "<polygon fill=\"#fefecd\" stroke=\"transparent\" points=\"224.5,-33 224.5,-46 255.5,-46 255.5,-33 224.5,-33\"/>\n",
       "<polyline fill=\"none\" stroke=\"#444443\" points=\"255.5,-33 255.5,-46 \"/>\n",
       "<text text-anchor=\"start\" x=\"230.0347\" y=\"-36.2\" font-family=\"Helvetica,sans-Serif\" font-size=\"11.00\" fill=\"#444443\">data </text>\n",
       "<polygon fill=\"#fefecd\" stroke=\"transparent\" points=\"257.5,-33 257.5,-46 277.5,-46 277.5,-33 257.5,-33\"/>\n",
       "<text text-anchor=\"start\" x=\"258.5\" y=\"-36.2\" font-family=\"Helvetica,sans-Serif\" font-size=\"11.00\" fill=\"#444443\"> 91</text>\n",
       "<polygon fill=\"#fefecd\" stroke=\"transparent\" points=\"224.5,-31 224.5,-33 277.5,-33 277.5,-31 224.5,-31\"/>\n",
       "<polygon fill=\"#fefecd\" stroke=\"transparent\" points=\"224.5,-18 224.5,-31 255.5,-31 255.5,-18 224.5,-18\"/>\n",
       "<polyline fill=\"none\" stroke=\"#444443\" points=\"255.5,-18 255.5,-31 \"/>\n",
       "<text text-anchor=\"start\" x=\"230.6523\" y=\"-21.2\" font-family=\"Helvetica,sans-Serif\" font-size=\"11.00\" fill=\"#444443\">next </text>\n",
       "<polygon fill=\"#fefecd\" stroke=\"transparent\" points=\"257.5,-18 257.5,-31 277.5,-31 277.5,-18 257.5,-18\"/>\n",
       "<text text-anchor=\"start\" x=\"258.5\" y=\"-21.2\" font-family=\"Helvetica,sans-Serif\" font-size=\"11.00\" fill=\"#444443\"> &#160;&#160;&#160;</text>\n",
       "</g>\n",
       "<!-- node4404614032 -->\n",
       "<g id=\"node5\" class=\"node\">\n",
       "<title>node4404614032</title>\n",
       "<polygon fill=\"#fefecd\" stroke=\"#444443\" stroke-width=\".5\" points=\"358,-63.5 301,-63.5 301,-16.5 358,-16.5 358,-63.5\"/>\n",
       "<polygon fill=\"#fefecd\" stroke=\"transparent\" points=\"303.5,-48 303.5,-61 356.5,-61 356.5,-48 303.5,-48\"/>\n",
       "<polyline fill=\"none\" stroke=\"#444443\" points=\"303.5,-48 356.5,-48 \"/>\n",
       "<text text-anchor=\"start\" x=\"304.0361\" y=\"-51.2\" font-family=\"Times,serif\" font-style=\"italic\" font-size=\"11.00\" fill=\"#444443\">QueueNode</text>\n",
       "<polygon fill=\"#fefecd\" stroke=\"transparent\" points=\"303.5,-46 303.5,-48 356.5,-48 356.5,-46 303.5,-46\"/>\n",
       "<polygon fill=\"#fefecd\" stroke=\"transparent\" points=\"303.5,-33 303.5,-46 334.5,-46 334.5,-33 303.5,-33\"/>\n",
       "<polyline fill=\"none\" stroke=\"#444443\" points=\"334.5,-33 334.5,-46 \"/>\n",
       "<text text-anchor=\"start\" x=\"309.0347\" y=\"-36.2\" font-family=\"Helvetica,sans-Serif\" font-size=\"11.00\" fill=\"#444443\">data </text>\n",
       "<polygon fill=\"#fefecd\" stroke=\"transparent\" points=\"336.5,-33 336.5,-46 356.5,-46 356.5,-33 336.5,-33\"/>\n",
       "<text text-anchor=\"start\" x=\"337.5\" y=\"-36.2\" font-family=\"Helvetica,sans-Serif\" font-size=\"11.00\" fill=\"#444443\"> 13</text>\n",
       "<polygon fill=\"#fefecd\" stroke=\"transparent\" points=\"303.5,-31 303.5,-33 356.5,-33 356.5,-31 303.5,-31\"/>\n",
       "<polygon fill=\"#fefecd\" stroke=\"transparent\" points=\"303.5,-18 303.5,-31 334.5,-31 334.5,-18 303.5,-18\"/>\n",
       "<polyline fill=\"none\" stroke=\"#444443\" points=\"334.5,-18 334.5,-31 \"/>\n",
       "<text text-anchor=\"start\" x=\"309.6523\" y=\"-21.2\" font-family=\"Helvetica,sans-Serif\" font-size=\"11.00\" fill=\"#444443\">next </text>\n",
       "<polygon fill=\"#fefecd\" stroke=\"transparent\" points=\"336.5,-18 336.5,-31 356.5,-31 356.5,-18 336.5,-18\"/>\n",
       "<text text-anchor=\"start\" x=\"337.5\" y=\"-21.2\" font-family=\"Helvetica,sans-Serif\" font-size=\"11.00\" fill=\"#444443\"> &#160;&#160;&#160;</text>\n",
       "</g>\n",
       "<!-- node4404616720&#45;&gt;node4404614032 -->\n",
       "<g id=\"edge4\" class=\"edge\">\n",
       "<title>node4404616720:c&#45;&gt;node4404614032</title>\n",
       "<path fill=\"none\" stroke=\"#444443\" stroke-width=\".5\" d=\"M270.7624,-24.8419C275.8442,-26.1533 286.1721,-28.8186 296.7704,-31.5537\"/>\n",
       "<ellipse fill=\"#444443\" stroke=\"#444443\" stroke-width=\".5\" cx=\"269.0492\" cy=\"-24.3998\" rx=\"1.6\" ry=\"1.6\"/>\n",
       "<polygon fill=\"#444443\" stroke=\"#444443\" stroke-width=\".5\" points=\"296.4551,-32.9181 300.6781,-32.5621 297.1548,-30.2069 296.4551,-32.9181\"/>\n",
       "</g>\n",
       "<!-- node4404615208 -->\n",
       "<g id=\"node2\" class=\"node\">\n",
       "<title>node4404615208</title>\n",
       "<polygon fill=\"#fefecd\" stroke=\"#444443\" stroke-width=\".5\" points=\"437,-63.5 380,-63.5 380,-16.5 437,-16.5 437,-63.5\"/>\n",
       "<polygon fill=\"#fefecd\" stroke=\"transparent\" points=\"382.5,-48 382.5,-61 435.5,-61 435.5,-48 382.5,-48\"/>\n",
       "<polyline fill=\"none\" stroke=\"#444443\" points=\"382.5,-48 435.5,-48 \"/>\n",
       "<text text-anchor=\"start\" x=\"383.0361\" y=\"-51.2\" font-family=\"Times,serif\" font-style=\"italic\" font-size=\"11.00\" fill=\"#444443\">QueueNode</text>\n",
       "<polygon fill=\"#fefecd\" stroke=\"transparent\" points=\"382.5,-46 382.5,-48 435.5,-48 435.5,-46 382.5,-46\"/>\n",
       "<polygon fill=\"#fefecd\" stroke=\"transparent\" points=\"382.5,-33 382.5,-46 413.5,-46 413.5,-33 382.5,-33\"/>\n",
       "<polyline fill=\"none\" stroke=\"#444443\" points=\"413.5,-33 413.5,-46 \"/>\n",
       "<text text-anchor=\"start\" x=\"388.0347\" y=\"-36.2\" font-family=\"Helvetica,sans-Serif\" font-size=\"11.00\" fill=\"#444443\">data </text>\n",
       "<polygon fill=\"#fefecd\" stroke=\"transparent\" points=\"415.5,-33 415.5,-46 435.5,-46 435.5,-33 415.5,-33\"/>\n",
       "<text text-anchor=\"start\" x=\"416.5\" y=\"-36.2\" font-family=\"Helvetica,sans-Serif\" font-size=\"11.00\" fill=\"#444443\"> 16</text>\n",
       "<polygon fill=\"#fefecd\" stroke=\"transparent\" points=\"382.5,-31 382.5,-33 435.5,-33 435.5,-31 382.5,-31\"/>\n",
       "<polygon fill=\"#fefecd\" stroke=\"transparent\" points=\"382.5,-18 382.5,-31 413.5,-31 413.5,-18 382.5,-18\"/>\n",
       "<polyline fill=\"none\" stroke=\"#444443\" points=\"413.5,-18 413.5,-31 \"/>\n",
       "<text text-anchor=\"start\" x=\"388.6523\" y=\"-21.2\" font-family=\"Helvetica,sans-Serif\" font-size=\"11.00\" fill=\"#444443\">next </text>\n",
       "<polygon fill=\"#fefecd\" stroke=\"transparent\" points=\"415.5,-18 415.5,-31 435.5,-31 435.5,-18 415.5,-18\"/>\n",
       "<text text-anchor=\"start\" x=\"416.5\" y=\"-21.2\" font-family=\"Helvetica,sans-Serif\" font-size=\"11.00\" fill=\"#444443\"> &#160;&#160;&#160;</text>\n",
       "</g>\n",
       "<!-- node4404616384 -->\n",
       "<g id=\"node3\" class=\"node\">\n",
       "<title>node4404616384</title>\n",
       "<polygon fill=\"#fefecd\" stroke=\"#444443\" stroke-width=\".5\" points=\"200,-63.5 143,-63.5 143,-16.5 200,-16.5 200,-63.5\"/>\n",
       "<polygon fill=\"#fefecd\" stroke=\"transparent\" points=\"145.5,-48 145.5,-61 198.5,-61 198.5,-48 145.5,-48\"/>\n",
       "<polyline fill=\"none\" stroke=\"#444443\" points=\"145.5,-48 198.5,-48 \"/>\n",
       "<text text-anchor=\"start\" x=\"146.0361\" y=\"-51.2\" font-family=\"Times,serif\" font-style=\"italic\" font-size=\"11.00\" fill=\"#444443\">QueueNode</text>\n",
       "<polygon fill=\"#fefecd\" stroke=\"transparent\" points=\"145.5,-46 145.5,-48 198.5,-48 198.5,-46 145.5,-46\"/>\n",
       "<polygon fill=\"#fefecd\" stroke=\"transparent\" points=\"145.5,-33 145.5,-46 176.5,-46 176.5,-33 145.5,-33\"/>\n",
       "<polyline fill=\"none\" stroke=\"#444443\" points=\"176.5,-33 176.5,-46 \"/>\n",
       "<text text-anchor=\"start\" x=\"151.0347\" y=\"-36.2\" font-family=\"Helvetica,sans-Serif\" font-size=\"11.00\" fill=\"#444443\">data </text>\n",
       "<polygon fill=\"#fefecd\" stroke=\"transparent\" points=\"179.5,-33 179.5,-46 198.5,-46 198.5,-33 179.5,-33\"/>\n",
       "<text text-anchor=\"start\" x=\"180.5\" y=\"-36.2\" font-family=\"Helvetica,sans-Serif\" font-size=\"11.00\" fill=\"#444443\"> 11</text>\n",
       "<polygon fill=\"#fefecd\" stroke=\"transparent\" points=\"145.5,-31 145.5,-33 198.5,-33 198.5,-31 145.5,-31\"/>\n",
       "<polygon fill=\"#fefecd\" stroke=\"transparent\" points=\"145.5,-18 145.5,-31 176.5,-31 176.5,-18 145.5,-18\"/>\n",
       "<polyline fill=\"none\" stroke=\"#444443\" points=\"176.5,-18 176.5,-31 \"/>\n",
       "<text text-anchor=\"start\" x=\"151.6523\" y=\"-21.2\" font-family=\"Helvetica,sans-Serif\" font-size=\"11.00\" fill=\"#444443\">next </text>\n",
       "<polygon fill=\"#fefecd\" stroke=\"transparent\" points=\"179.5,-18 179.5,-31 198.5,-31 198.5,-18 179.5,-18\"/>\n",
       "<text text-anchor=\"start\" x=\"180.5\" y=\"-21.2\" font-family=\"Helvetica,sans-Serif\" font-size=\"11.00\" fill=\"#444443\"> &#160;&#160;&#160;</text>\n",
       "</g>\n",
       "<!-- node4404616384&#45;&gt;node4404616720 -->\n",
       "<g id=\"edge3\" class=\"edge\">\n",
       "<title>node4404616384:c&#45;&gt;node4404616720</title>\n",
       "<path fill=\"none\" stroke=\"#444443\" stroke-width=\".5\" d=\"M192.6644,-24.83C197.5526,-26.1122 207.4511,-28.7085 217.698,-31.3962\"/>\n",
       "<ellipse fill=\"#444443\" stroke=\"#444443\" stroke-width=\".5\" cx=\"191.0476\" cy=\"-24.406\" rx=\"1.6\" ry=\"1.6\"/>\n",
       "<polygon fill=\"#444443\" stroke=\"#444443\" stroke-width=\".5\" points=\"217.5619,-32.8078 221.7862,-32.4685 218.2723,-30.0994 217.5619,-32.8078\"/>\n",
       "</g>\n",
       "<!-- node4404616944 -->\n",
       "<g id=\"node4\" class=\"node\">\n",
       "<title>node4404616944</title>\n",
       "<polygon fill=\"#fefecd\" stroke=\"#444443\" stroke-width=\".5\" points=\"121,-63.5 64,-63.5 64,-16.5 121,-16.5 121,-63.5\"/>\n",
       "<polygon fill=\"#fefecd\" stroke=\"transparent\" points=\"66.5,-48 66.5,-61 119.5,-61 119.5,-48 66.5,-48\"/>\n",
       "<polyline fill=\"none\" stroke=\"#444443\" points=\"66.5,-48 119.5,-48 \"/>\n",
       "<text text-anchor=\"start\" x=\"67.0361\" y=\"-51.2\" font-family=\"Times,serif\" font-style=\"italic\" font-size=\"11.00\" fill=\"#444443\">QueueNode</text>\n",
       "<polygon fill=\"#fefecd\" stroke=\"transparent\" points=\"66.5,-46 66.5,-48 119.5,-48 119.5,-46 66.5,-46\"/>\n",
       "<polygon fill=\"#fefecd\" stroke=\"transparent\" points=\"66.5,-33 66.5,-46 98.5,-46 98.5,-33 66.5,-33\"/>\n",
       "<polyline fill=\"none\" stroke=\"#444443\" points=\"98.5,-33 98.5,-46 \"/>\n",
       "<text text-anchor=\"start\" x=\"73.0347\" y=\"-36.2\" font-family=\"Helvetica,sans-Serif\" font-size=\"11.00\" fill=\"#444443\">data </text>\n",
       "<polygon fill=\"#fefecd\" stroke=\"transparent\" points=\"101.5,-33 101.5,-46 119.5,-46 119.5,-33 101.5,-33\"/>\n",
       "<text text-anchor=\"start\" x=\"102.5\" y=\"-36.2\" font-family=\"Helvetica,sans-Serif\" font-size=\"11.00\" fill=\"#444443\"> 1</text>\n",
       "<polygon fill=\"#fefecd\" stroke=\"transparent\" points=\"66.5,-31 66.5,-33 119.5,-33 119.5,-31 66.5,-31\"/>\n",
       "<polygon fill=\"#fefecd\" stroke=\"transparent\" points=\"66.5,-18 66.5,-31 98.5,-31 98.5,-18 66.5,-18\"/>\n",
       "<polyline fill=\"none\" stroke=\"#444443\" points=\"98.5,-18 98.5,-31 \"/>\n",
       "<text text-anchor=\"start\" x=\"73.6523\" y=\"-21.2\" font-family=\"Helvetica,sans-Serif\" font-size=\"11.00\" fill=\"#444443\">next </text>\n",
       "<polygon fill=\"#fefecd\" stroke=\"transparent\" points=\"101.5,-18 101.5,-31 119.5,-31 119.5,-18 101.5,-18\"/>\n",
       "<text text-anchor=\"start\" x=\"102.5\" y=\"-21.2\" font-family=\"Helvetica,sans-Serif\" font-size=\"11.00\" fill=\"#444443\"> &#160;&#160;&#160;</text>\n",
       "</g>\n",
       "<!-- node4404616944&#45;&gt;node4404616384 -->\n",
       "<g id=\"edge2\" class=\"edge\">\n",
       "<title>node4404616944:c&#45;&gt;node4404616384</title>\n",
       "<path fill=\"none\" stroke=\"#444443\" stroke-width=\".5\" d=\"M113.6644,-24.83C118.5526,-26.1122 128.4511,-28.7085 138.698,-31.3962\"/>\n",
       "<ellipse fill=\"#444443\" stroke=\"#444443\" stroke-width=\".5\" cx=\"112.0476\" cy=\"-24.406\" rx=\"1.6\" ry=\"1.6\"/>\n",
       "<polygon fill=\"#444443\" stroke=\"#444443\" stroke-width=\".5\" points=\"138.5619,-32.8078 142.7862,-32.4685 139.2723,-30.0994 138.5619,-32.8078\"/>\n",
       "</g>\n",
       "<!-- node4404614032&#45;&gt;node4404615208 -->\n",
       "<g id=\"edge5\" class=\"edge\">\n",
       "<title>node4404614032:c&#45;&gt;node4404615208</title>\n",
       "<path fill=\"none\" stroke=\"#444443\" stroke-width=\".5\" d=\"M349.7624,-24.8419C354.8442,-26.1533 365.1721,-28.8186 375.7704,-31.5537\"/>\n",
       "<ellipse fill=\"#444443\" stroke=\"#444443\" stroke-width=\".5\" cx=\"348.0492\" cy=\"-24.3998\" rx=\"1.6\" ry=\"1.6\"/>\n",
       "<polygon fill=\"#444443\" stroke=\"#444443\" stroke-width=\".5\" points=\"375.4551,-32.9181 379.6781,-32.5621 376.1548,-30.2069 375.4551,-32.9181\"/>\n",
       "</g>\n",
       "<!-- node4404615376 -->\n",
       "<g id=\"node6\" class=\"node\">\n",
       "<title>node4404615376</title>\n",
       "<polygon fill=\"#fefecd\" stroke=\"#444443\" stroke-width=\".5\" points=\"42,-64 0,-64 0,-32 42,-32 42,-64\"/>\n",
       "<polygon fill=\"#fefecd\" stroke=\"transparent\" points=\"2,-49 2,-62 40,-62 40,-49 2,-49\"/>\n",
       "<polyline fill=\"none\" stroke=\"#444443\" points=\"2,-49 40,-49 \"/>\n",
       "<text text-anchor=\"start\" x=\"6.6458\" y=\"-52.2\" font-family=\"Times,serif\" font-style=\"italic\" font-size=\"11.00\" fill=\"#444443\">Queue</text>\n",
       "<polygon fill=\"#fefecd\" stroke=\"transparent\" points=\"2,-47 2,-49 40,-49 40,-47 2,-47\"/>\n",
       "<polygon fill=\"#fefecd\" stroke=\"transparent\" points=\"2,-34 2,-47 26,-47 26,-34 2,-34\"/>\n",
       "<polyline fill=\"none\" stroke=\"#444443\" points=\"26,-34 26,-47 \"/>\n",
       "<text text-anchor=\"start\" x=\"2.9946\" y=\"-37.2\" font-family=\"Helvetica,sans-Serif\" font-size=\"11.00\" fill=\"#444443\">root </text>\n",
       "<polygon fill=\"#fefecd\" stroke=\"transparent\" points=\"26,-34 26,-47 40,-47 40,-34 26,-34\"/>\n",
       "<text text-anchor=\"start\" x=\"26.8877\" y=\"-37.2\" font-family=\"Helvetica,sans-Serif\" font-size=\"11.00\" fill=\"#444443\"> &#160;&#160;&#160;</text>\n",
       "</g>\n",
       "<!-- node4404615376&#45;&gt;node4404616944 -->\n",
       "<g id=\"edge1\" class=\"edge\">\n",
       "<title>node4404615376:c&#45;&gt;node4404616944</title>\n",
       "<path fill=\"none\" stroke=\"#444443\" stroke-width=\".5\" d=\"M36.3426,-40C41.061,-40 50.1681,-40 59.6974,-40\"/>\n",
       "<ellipse fill=\"#444443\" stroke=\"#444443\" stroke-width=\".5\" cx=\"34.6\" cy=\"-40\" rx=\"1.6\" ry=\"1.6\"/>\n",
       "<polygon fill=\"#444443\" stroke=\"#444443\" stroke-width=\".5\" points=\"59.7957,-41.4001 63.7957,-40 59.7957,-38.6001 59.7957,-41.4001\"/>\n",
       "</g>\n",
       "</g>\n",
       "</svg>\n"
      ],
      "text/plain": [
       "<graphviz.files.Source at 0x1068914e0>"
      ]
     },
     "execution_count": 25,
     "metadata": {},
     "output_type": "execute_result"
    }
   ],
   "source": [
    "objviz(front)"
   ]
  },
  {
   "cell_type": "code",
   "execution_count": 26,
   "metadata": {},
   "outputs": [
    {
     "data": {
      "text/plain": [
       "False"
      ]
     },
     "execution_count": 26,
     "metadata": {},
     "output_type": "execute_result"
    }
   ],
   "source": [
    "front.is_empty()"
   ]
  },
  {
   "cell_type": "code",
   "execution_count": 27,
   "metadata": {},
   "outputs": [
    {
     "data": {
      "text/plain": [
       "1"
      ]
     },
     "execution_count": 27,
     "metadata": {},
     "output_type": "execute_result"
    }
   ],
   "source": [
    "front.dequeue()"
   ]
  },
  {
   "cell_type": "code",
   "execution_count": 28,
   "metadata": {},
   "outputs": [
    {
     "data": {
      "image/svg+xml": [
       "<?xml version=\"1.0\" encoding=\"UTF-8\" standalone=\"no\"?>\n",
       "<!DOCTYPE svg PUBLIC \"-//W3C//DTD SVG 1.1//EN\"\n",
       " \"http://www.w3.org/Graphics/SVG/1.1/DTD/svg11.dtd\">\n",
       "<!-- Generated by graphviz version 2.40.1 (20161225.0304)\n",
       " -->\n",
       "<!-- Title: G Pages: 1 -->\n",
       "<svg width=\"382pt\" height=\"88pt\"\n",
       " viewBox=\"0.00 0.00 382.00 88.00\" xmlns=\"http://www.w3.org/2000/svg\" xmlns:xlink=\"http://www.w3.org/1999/xlink\">\n",
       "<g id=\"graph0\" class=\"graph\" transform=\"scale(1 1) rotate(0) translate(4 84)\">\n",
       "<title>G</title>\n",
       "<polygon fill=\"#ffffff\" stroke=\"transparent\" points=\"-4,4 -4,-84 378,-84 378,4 -4,4\"/>\n",
       "<g id=\"clust1\" class=\"cluster\">\n",
       "<title>cluster1</title>\n",
       "</g>\n",
       "<!-- node4404616720 -->\n",
       "<g id=\"node1\" class=\"node\">\n",
       "<title>node4404616720</title>\n",
       "<polygon fill=\"#fefecd\" stroke=\"#444443\" stroke-width=\".5\" points=\"200,-63.5 143,-63.5 143,-16.5 200,-16.5 200,-63.5\"/>\n",
       "<polygon fill=\"#fefecd\" stroke=\"transparent\" points=\"145.5,-48 145.5,-61 198.5,-61 198.5,-48 145.5,-48\"/>\n",
       "<polyline fill=\"none\" stroke=\"#444443\" points=\"145.5,-48 198.5,-48 \"/>\n",
       "<text text-anchor=\"start\" x=\"146.0361\" y=\"-51.2\" font-family=\"Times,serif\" font-style=\"italic\" font-size=\"11.00\" fill=\"#444443\">QueueNode</text>\n",
       "<polygon fill=\"#fefecd\" stroke=\"transparent\" points=\"145.5,-46 145.5,-48 198.5,-48 198.5,-46 145.5,-46\"/>\n",
       "<polygon fill=\"#fefecd\" stroke=\"transparent\" points=\"145.5,-33 145.5,-46 176.5,-46 176.5,-33 145.5,-33\"/>\n",
       "<polyline fill=\"none\" stroke=\"#444443\" points=\"176.5,-33 176.5,-46 \"/>\n",
       "<text text-anchor=\"start\" x=\"151.0347\" y=\"-36.2\" font-family=\"Helvetica,sans-Serif\" font-size=\"11.00\" fill=\"#444443\">data </text>\n",
       "<polygon fill=\"#fefecd\" stroke=\"transparent\" points=\"178.5,-33 178.5,-46 198.5,-46 198.5,-33 178.5,-33\"/>\n",
       "<text text-anchor=\"start\" x=\"179.5\" y=\"-36.2\" font-family=\"Helvetica,sans-Serif\" font-size=\"11.00\" fill=\"#444443\"> 91</text>\n",
       "<polygon fill=\"#fefecd\" stroke=\"transparent\" points=\"145.5,-31 145.5,-33 198.5,-33 198.5,-31 145.5,-31\"/>\n",
       "<polygon fill=\"#fefecd\" stroke=\"transparent\" points=\"145.5,-18 145.5,-31 176.5,-31 176.5,-18 145.5,-18\"/>\n",
       "<polyline fill=\"none\" stroke=\"#444443\" points=\"176.5,-18 176.5,-31 \"/>\n",
       "<text text-anchor=\"start\" x=\"151.6523\" y=\"-21.2\" font-family=\"Helvetica,sans-Serif\" font-size=\"11.00\" fill=\"#444443\">next </text>\n",
       "<polygon fill=\"#fefecd\" stroke=\"transparent\" points=\"178.5,-18 178.5,-31 198.5,-31 198.5,-18 178.5,-18\"/>\n",
       "<text text-anchor=\"start\" x=\"179.5\" y=\"-21.2\" font-family=\"Helvetica,sans-Serif\" font-size=\"11.00\" fill=\"#444443\"> &#160;&#160;&#160;</text>\n",
       "</g>\n",
       "<!-- node4404614032 -->\n",
       "<g id=\"node4\" class=\"node\">\n",
       "<title>node4404614032</title>\n",
       "<polygon fill=\"#fefecd\" stroke=\"#444443\" stroke-width=\".5\" points=\"279,-63.5 222,-63.5 222,-16.5 279,-16.5 279,-63.5\"/>\n",
       "<polygon fill=\"#fefecd\" stroke=\"transparent\" points=\"224.5,-48 224.5,-61 277.5,-61 277.5,-48 224.5,-48\"/>\n",
       "<polyline fill=\"none\" stroke=\"#444443\" points=\"224.5,-48 277.5,-48 \"/>\n",
       "<text text-anchor=\"start\" x=\"225.0361\" y=\"-51.2\" font-family=\"Times,serif\" font-style=\"italic\" font-size=\"11.00\" fill=\"#444443\">QueueNode</text>\n",
       "<polygon fill=\"#fefecd\" stroke=\"transparent\" points=\"224.5,-46 224.5,-48 277.5,-48 277.5,-46 224.5,-46\"/>\n",
       "<polygon fill=\"#fefecd\" stroke=\"transparent\" points=\"224.5,-33 224.5,-46 255.5,-46 255.5,-33 224.5,-33\"/>\n",
       "<polyline fill=\"none\" stroke=\"#444443\" points=\"255.5,-33 255.5,-46 \"/>\n",
       "<text text-anchor=\"start\" x=\"230.0347\" y=\"-36.2\" font-family=\"Helvetica,sans-Serif\" font-size=\"11.00\" fill=\"#444443\">data </text>\n",
       "<polygon fill=\"#fefecd\" stroke=\"transparent\" points=\"257.5,-33 257.5,-46 277.5,-46 277.5,-33 257.5,-33\"/>\n",
       "<text text-anchor=\"start\" x=\"258.5\" y=\"-36.2\" font-family=\"Helvetica,sans-Serif\" font-size=\"11.00\" fill=\"#444443\"> 13</text>\n",
       "<polygon fill=\"#fefecd\" stroke=\"transparent\" points=\"224.5,-31 224.5,-33 277.5,-33 277.5,-31 224.5,-31\"/>\n",
       "<polygon fill=\"#fefecd\" stroke=\"transparent\" points=\"224.5,-18 224.5,-31 255.5,-31 255.5,-18 224.5,-18\"/>\n",
       "<polyline fill=\"none\" stroke=\"#444443\" points=\"255.5,-18 255.5,-31 \"/>\n",
       "<text text-anchor=\"start\" x=\"230.6523\" y=\"-21.2\" font-family=\"Helvetica,sans-Serif\" font-size=\"11.00\" fill=\"#444443\">next </text>\n",
       "<polygon fill=\"#fefecd\" stroke=\"transparent\" points=\"257.5,-18 257.5,-31 277.5,-31 277.5,-18 257.5,-18\"/>\n",
       "<text text-anchor=\"start\" x=\"258.5\" y=\"-21.2\" font-family=\"Helvetica,sans-Serif\" font-size=\"11.00\" fill=\"#444443\"> &#160;&#160;&#160;</text>\n",
       "</g>\n",
       "<!-- node4404616720&#45;&gt;node4404614032 -->\n",
       "<g id=\"edge3\" class=\"edge\">\n",
       "<title>node4404616720:c&#45;&gt;node4404614032</title>\n",
       "<path fill=\"none\" stroke=\"#444443\" stroke-width=\".5\" d=\"M191.7624,-24.8419C196.8442,-26.1533 207.1721,-28.8186 217.7704,-31.5537\"/>\n",
       "<ellipse fill=\"#444443\" stroke=\"#444443\" stroke-width=\".5\" cx=\"190.0492\" cy=\"-24.3998\" rx=\"1.6\" ry=\"1.6\"/>\n",
       "<polygon fill=\"#444443\" stroke=\"#444443\" stroke-width=\".5\" points=\"217.4551,-32.9181 221.6781,-32.5621 218.1548,-30.2069 217.4551,-32.9181\"/>\n",
       "</g>\n",
       "<!-- node4404615208 -->\n",
       "<g id=\"node2\" class=\"node\">\n",
       "<title>node4404615208</title>\n",
       "<polygon fill=\"#fefecd\" stroke=\"#444443\" stroke-width=\".5\" points=\"358,-63.5 301,-63.5 301,-16.5 358,-16.5 358,-63.5\"/>\n",
       "<polygon fill=\"#fefecd\" stroke=\"transparent\" points=\"303.5,-48 303.5,-61 356.5,-61 356.5,-48 303.5,-48\"/>\n",
       "<polyline fill=\"none\" stroke=\"#444443\" points=\"303.5,-48 356.5,-48 \"/>\n",
       "<text text-anchor=\"start\" x=\"304.0361\" y=\"-51.2\" font-family=\"Times,serif\" font-style=\"italic\" font-size=\"11.00\" fill=\"#444443\">QueueNode</text>\n",
       "<polygon fill=\"#fefecd\" stroke=\"transparent\" points=\"303.5,-46 303.5,-48 356.5,-48 356.5,-46 303.5,-46\"/>\n",
       "<polygon fill=\"#fefecd\" stroke=\"transparent\" points=\"303.5,-33 303.5,-46 334.5,-46 334.5,-33 303.5,-33\"/>\n",
       "<polyline fill=\"none\" stroke=\"#444443\" points=\"334.5,-33 334.5,-46 \"/>\n",
       "<text text-anchor=\"start\" x=\"309.0347\" y=\"-36.2\" font-family=\"Helvetica,sans-Serif\" font-size=\"11.00\" fill=\"#444443\">data </text>\n",
       "<polygon fill=\"#fefecd\" stroke=\"transparent\" points=\"336.5,-33 336.5,-46 356.5,-46 356.5,-33 336.5,-33\"/>\n",
       "<text text-anchor=\"start\" x=\"337.5\" y=\"-36.2\" font-family=\"Helvetica,sans-Serif\" font-size=\"11.00\" fill=\"#444443\"> 16</text>\n",
       "<polygon fill=\"#fefecd\" stroke=\"transparent\" points=\"303.5,-31 303.5,-33 356.5,-33 356.5,-31 303.5,-31\"/>\n",
       "<polygon fill=\"#fefecd\" stroke=\"transparent\" points=\"303.5,-18 303.5,-31 334.5,-31 334.5,-18 303.5,-18\"/>\n",
       "<polyline fill=\"none\" stroke=\"#444443\" points=\"334.5,-18 334.5,-31 \"/>\n",
       "<text text-anchor=\"start\" x=\"309.6523\" y=\"-21.2\" font-family=\"Helvetica,sans-Serif\" font-size=\"11.00\" fill=\"#444443\">next </text>\n",
       "<polygon fill=\"#fefecd\" stroke=\"transparent\" points=\"336.5,-18 336.5,-31 356.5,-31 356.5,-18 336.5,-18\"/>\n",
       "<text text-anchor=\"start\" x=\"337.5\" y=\"-21.2\" font-family=\"Helvetica,sans-Serif\" font-size=\"11.00\" fill=\"#444443\"> &#160;&#160;&#160;</text>\n",
       "</g>\n",
       "<!-- node4404616384 -->\n",
       "<g id=\"node3\" class=\"node\">\n",
       "<title>node4404616384</title>\n",
       "<polygon fill=\"#fefecd\" stroke=\"#444443\" stroke-width=\".5\" points=\"121,-63.5 64,-63.5 64,-16.5 121,-16.5 121,-63.5\"/>\n",
       "<polygon fill=\"#fefecd\" stroke=\"transparent\" points=\"66.5,-48 66.5,-61 119.5,-61 119.5,-48 66.5,-48\"/>\n",
       "<polyline fill=\"none\" stroke=\"#444443\" points=\"66.5,-48 119.5,-48 \"/>\n",
       "<text text-anchor=\"start\" x=\"67.0361\" y=\"-51.2\" font-family=\"Times,serif\" font-style=\"italic\" font-size=\"11.00\" fill=\"#444443\">QueueNode</text>\n",
       "<polygon fill=\"#fefecd\" stroke=\"transparent\" points=\"66.5,-46 66.5,-48 119.5,-48 119.5,-46 66.5,-46\"/>\n",
       "<polygon fill=\"#fefecd\" stroke=\"transparent\" points=\"66.5,-33 66.5,-46 97.5,-46 97.5,-33 66.5,-33\"/>\n",
       "<polyline fill=\"none\" stroke=\"#444443\" points=\"97.5,-33 97.5,-46 \"/>\n",
       "<text text-anchor=\"start\" x=\"72.0347\" y=\"-36.2\" font-family=\"Helvetica,sans-Serif\" font-size=\"11.00\" fill=\"#444443\">data </text>\n",
       "<polygon fill=\"#fefecd\" stroke=\"transparent\" points=\"100.5,-33 100.5,-46 119.5,-46 119.5,-33 100.5,-33\"/>\n",
       "<text text-anchor=\"start\" x=\"101.5\" y=\"-36.2\" font-family=\"Helvetica,sans-Serif\" font-size=\"11.00\" fill=\"#444443\"> 11</text>\n",
       "<polygon fill=\"#fefecd\" stroke=\"transparent\" points=\"66.5,-31 66.5,-33 119.5,-33 119.5,-31 66.5,-31\"/>\n",
       "<polygon fill=\"#fefecd\" stroke=\"transparent\" points=\"66.5,-18 66.5,-31 97.5,-31 97.5,-18 66.5,-18\"/>\n",
       "<polyline fill=\"none\" stroke=\"#444443\" points=\"97.5,-18 97.5,-31 \"/>\n",
       "<text text-anchor=\"start\" x=\"72.6523\" y=\"-21.2\" font-family=\"Helvetica,sans-Serif\" font-size=\"11.00\" fill=\"#444443\">next </text>\n",
       "<polygon fill=\"#fefecd\" stroke=\"transparent\" points=\"100.5,-18 100.5,-31 119.5,-31 119.5,-18 100.5,-18\"/>\n",
       "<text text-anchor=\"start\" x=\"101.5\" y=\"-21.2\" font-family=\"Helvetica,sans-Serif\" font-size=\"11.00\" fill=\"#444443\"> &#160;&#160;&#160;</text>\n",
       "</g>\n",
       "<!-- node4404616384&#45;&gt;node4404616720 -->\n",
       "<g id=\"edge2\" class=\"edge\">\n",
       "<title>node4404616384:c&#45;&gt;node4404616720</title>\n",
       "<path fill=\"none\" stroke=\"#444443\" stroke-width=\".5\" d=\"M113.6644,-24.83C118.5526,-26.1122 128.4511,-28.7085 138.698,-31.3962\"/>\n",
       "<ellipse fill=\"#444443\" stroke=\"#444443\" stroke-width=\".5\" cx=\"112.0476\" cy=\"-24.406\" rx=\"1.6\" ry=\"1.6\"/>\n",
       "<polygon fill=\"#444443\" stroke=\"#444443\" stroke-width=\".5\" points=\"138.5619,-32.8078 142.7862,-32.4685 139.2723,-30.0994 138.5619,-32.8078\"/>\n",
       "</g>\n",
       "<!-- node4404614032&#45;&gt;node4404615208 -->\n",
       "<g id=\"edge4\" class=\"edge\">\n",
       "<title>node4404614032:c&#45;&gt;node4404615208</title>\n",
       "<path fill=\"none\" stroke=\"#444443\" stroke-width=\".5\" d=\"M270.7624,-24.8419C275.8442,-26.1533 286.1721,-28.8186 296.7704,-31.5537\"/>\n",
       "<ellipse fill=\"#444443\" stroke=\"#444443\" stroke-width=\".5\" cx=\"269.0492\" cy=\"-24.3998\" rx=\"1.6\" ry=\"1.6\"/>\n",
       "<polygon fill=\"#444443\" stroke=\"#444443\" stroke-width=\".5\" points=\"296.4551,-32.9181 300.6781,-32.5621 297.1548,-30.2069 296.4551,-32.9181\"/>\n",
       "</g>\n",
       "<!-- node4404615376 -->\n",
       "<g id=\"node5\" class=\"node\">\n",
       "<title>node4404615376</title>\n",
       "<polygon fill=\"#fefecd\" stroke=\"#444443\" stroke-width=\".5\" points=\"42,-64 0,-64 0,-32 42,-32 42,-64\"/>\n",
       "<polygon fill=\"#fefecd\" stroke=\"transparent\" points=\"2,-49 2,-62 40,-62 40,-49 2,-49\"/>\n",
       "<polyline fill=\"none\" stroke=\"#444443\" points=\"2,-49 40,-49 \"/>\n",
       "<text text-anchor=\"start\" x=\"6.6458\" y=\"-52.2\" font-family=\"Times,serif\" font-style=\"italic\" font-size=\"11.00\" fill=\"#444443\">Queue</text>\n",
       "<polygon fill=\"#fefecd\" stroke=\"transparent\" points=\"2,-47 2,-49 40,-49 40,-47 2,-47\"/>\n",
       "<polygon fill=\"#fefecd\" stroke=\"transparent\" points=\"2,-34 2,-47 26,-47 26,-34 2,-34\"/>\n",
       "<polyline fill=\"none\" stroke=\"#444443\" points=\"26,-34 26,-47 \"/>\n",
       "<text text-anchor=\"start\" x=\"2.9946\" y=\"-37.2\" font-family=\"Helvetica,sans-Serif\" font-size=\"11.00\" fill=\"#444443\">root </text>\n",
       "<polygon fill=\"#fefecd\" stroke=\"transparent\" points=\"26,-34 26,-47 40,-47 40,-34 26,-34\"/>\n",
       "<text text-anchor=\"start\" x=\"26.8877\" y=\"-37.2\" font-family=\"Helvetica,sans-Serif\" font-size=\"11.00\" fill=\"#444443\"> &#160;&#160;&#160;</text>\n",
       "</g>\n",
       "<!-- node4404615376&#45;&gt;node4404616384 -->\n",
       "<g id=\"edge1\" class=\"edge\">\n",
       "<title>node4404615376:c&#45;&gt;node4404616384</title>\n",
       "<path fill=\"none\" stroke=\"#444443\" stroke-width=\".5\" d=\"M36.3426,-40C41.061,-40 50.1681,-40 59.6974,-40\"/>\n",
       "<ellipse fill=\"#444443\" stroke=\"#444443\" stroke-width=\".5\" cx=\"34.6\" cy=\"-40\" rx=\"1.6\" ry=\"1.6\"/>\n",
       "<polygon fill=\"#444443\" stroke=\"#444443\" stroke-width=\".5\" points=\"59.7957,-41.4001 63.7957,-40 59.7957,-38.6001 59.7957,-41.4001\"/>\n",
       "</g>\n",
       "</g>\n",
       "</svg>\n"
      ],
      "text/plain": [
       "<graphviz.files.Source at 0x1068915f8>"
      ]
     },
     "execution_count": 28,
     "metadata": {},
     "output_type": "execute_result"
    }
   ],
   "source": [
    "objviz(front)"
   ]
  },
  {
   "cell_type": "code",
   "execution_count": 29,
   "metadata": {},
   "outputs": [
    {
     "data": {
      "text/plain": [
       "11"
      ]
     },
     "execution_count": 29,
     "metadata": {},
     "output_type": "execute_result"
    }
   ],
   "source": [
    "front.dequeue()"
   ]
  },
  {
   "cell_type": "code",
   "execution_count": 30,
   "metadata": {},
   "outputs": [
    {
     "data": {
      "image/svg+xml": [
       "<?xml version=\"1.0\" encoding=\"UTF-8\" standalone=\"no\"?>\n",
       "<!DOCTYPE svg PUBLIC \"-//W3C//DTD SVG 1.1//EN\"\n",
       " \"http://www.w3.org/Graphics/SVG/1.1/DTD/svg11.dtd\">\n",
       "<!-- Generated by graphviz version 2.40.1 (20161225.0304)\n",
       " -->\n",
       "<!-- Title: G Pages: 1 -->\n",
       "<svg width=\"303pt\" height=\"88pt\"\n",
       " viewBox=\"0.00 0.00 303.00 88.00\" xmlns=\"http://www.w3.org/2000/svg\" xmlns:xlink=\"http://www.w3.org/1999/xlink\">\n",
       "<g id=\"graph0\" class=\"graph\" transform=\"scale(1 1) rotate(0) translate(4 84)\">\n",
       "<title>G</title>\n",
       "<polygon fill=\"#ffffff\" stroke=\"transparent\" points=\"-4,4 -4,-84 299,-84 299,4 -4,4\"/>\n",
       "<g id=\"clust1\" class=\"cluster\">\n",
       "<title>cluster1</title>\n",
       "</g>\n",
       "<!-- node4404616720 -->\n",
       "<g id=\"node1\" class=\"node\">\n",
       "<title>node4404616720</title>\n",
       "<polygon fill=\"#fefecd\" stroke=\"#444443\" stroke-width=\".5\" points=\"121,-63.5 64,-63.5 64,-16.5 121,-16.5 121,-63.5\"/>\n",
       "<polygon fill=\"#fefecd\" stroke=\"transparent\" points=\"66.5,-48 66.5,-61 119.5,-61 119.5,-48 66.5,-48\"/>\n",
       "<polyline fill=\"none\" stroke=\"#444443\" points=\"66.5,-48 119.5,-48 \"/>\n",
       "<text text-anchor=\"start\" x=\"67.0361\" y=\"-51.2\" font-family=\"Times,serif\" font-style=\"italic\" font-size=\"11.00\" fill=\"#444443\">QueueNode</text>\n",
       "<polygon fill=\"#fefecd\" stroke=\"transparent\" points=\"66.5,-46 66.5,-48 119.5,-48 119.5,-46 66.5,-46\"/>\n",
       "<polygon fill=\"#fefecd\" stroke=\"transparent\" points=\"66.5,-33 66.5,-46 97.5,-46 97.5,-33 66.5,-33\"/>\n",
       "<polyline fill=\"none\" stroke=\"#444443\" points=\"97.5,-33 97.5,-46 \"/>\n",
       "<text text-anchor=\"start\" x=\"72.0347\" y=\"-36.2\" font-family=\"Helvetica,sans-Serif\" font-size=\"11.00\" fill=\"#444443\">data </text>\n",
       "<polygon fill=\"#fefecd\" stroke=\"transparent\" points=\"99.5,-33 99.5,-46 119.5,-46 119.5,-33 99.5,-33\"/>\n",
       "<text text-anchor=\"start\" x=\"100.5\" y=\"-36.2\" font-family=\"Helvetica,sans-Serif\" font-size=\"11.00\" fill=\"#444443\"> 91</text>\n",
       "<polygon fill=\"#fefecd\" stroke=\"transparent\" points=\"66.5,-31 66.5,-33 119.5,-33 119.5,-31 66.5,-31\"/>\n",
       "<polygon fill=\"#fefecd\" stroke=\"transparent\" points=\"66.5,-18 66.5,-31 97.5,-31 97.5,-18 66.5,-18\"/>\n",
       "<polyline fill=\"none\" stroke=\"#444443\" points=\"97.5,-18 97.5,-31 \"/>\n",
       "<text text-anchor=\"start\" x=\"72.6523\" y=\"-21.2\" font-family=\"Helvetica,sans-Serif\" font-size=\"11.00\" fill=\"#444443\">next </text>\n",
       "<polygon fill=\"#fefecd\" stroke=\"transparent\" points=\"99.5,-18 99.5,-31 119.5,-31 119.5,-18 99.5,-18\"/>\n",
       "<text text-anchor=\"start\" x=\"100.5\" y=\"-21.2\" font-family=\"Helvetica,sans-Serif\" font-size=\"11.00\" fill=\"#444443\"> &#160;&#160;&#160;</text>\n",
       "</g>\n",
       "<!-- node4404614032 -->\n",
       "<g id=\"node3\" class=\"node\">\n",
       "<title>node4404614032</title>\n",
       "<polygon fill=\"#fefecd\" stroke=\"#444443\" stroke-width=\".5\" points=\"200,-63.5 143,-63.5 143,-16.5 200,-16.5 200,-63.5\"/>\n",
       "<polygon fill=\"#fefecd\" stroke=\"transparent\" points=\"145.5,-48 145.5,-61 198.5,-61 198.5,-48 145.5,-48\"/>\n",
       "<polyline fill=\"none\" stroke=\"#444443\" points=\"145.5,-48 198.5,-48 \"/>\n",
       "<text text-anchor=\"start\" x=\"146.0361\" y=\"-51.2\" font-family=\"Times,serif\" font-style=\"italic\" font-size=\"11.00\" fill=\"#444443\">QueueNode</text>\n",
       "<polygon fill=\"#fefecd\" stroke=\"transparent\" points=\"145.5,-46 145.5,-48 198.5,-48 198.5,-46 145.5,-46\"/>\n",
       "<polygon fill=\"#fefecd\" stroke=\"transparent\" points=\"145.5,-33 145.5,-46 176.5,-46 176.5,-33 145.5,-33\"/>\n",
       "<polyline fill=\"none\" stroke=\"#444443\" points=\"176.5,-33 176.5,-46 \"/>\n",
       "<text text-anchor=\"start\" x=\"151.0347\" y=\"-36.2\" font-family=\"Helvetica,sans-Serif\" font-size=\"11.00\" fill=\"#444443\">data </text>\n",
       "<polygon fill=\"#fefecd\" stroke=\"transparent\" points=\"178.5,-33 178.5,-46 198.5,-46 198.5,-33 178.5,-33\"/>\n",
       "<text text-anchor=\"start\" x=\"179.5\" y=\"-36.2\" font-family=\"Helvetica,sans-Serif\" font-size=\"11.00\" fill=\"#444443\"> 13</text>\n",
       "<polygon fill=\"#fefecd\" stroke=\"transparent\" points=\"145.5,-31 145.5,-33 198.5,-33 198.5,-31 145.5,-31\"/>\n",
       "<polygon fill=\"#fefecd\" stroke=\"transparent\" points=\"145.5,-18 145.5,-31 176.5,-31 176.5,-18 145.5,-18\"/>\n",
       "<polyline fill=\"none\" stroke=\"#444443\" points=\"176.5,-18 176.5,-31 \"/>\n",
       "<text text-anchor=\"start\" x=\"151.6523\" y=\"-21.2\" font-family=\"Helvetica,sans-Serif\" font-size=\"11.00\" fill=\"#444443\">next </text>\n",
       "<polygon fill=\"#fefecd\" stroke=\"transparent\" points=\"178.5,-18 178.5,-31 198.5,-31 198.5,-18 178.5,-18\"/>\n",
       "<text text-anchor=\"start\" x=\"179.5\" y=\"-21.2\" font-family=\"Helvetica,sans-Serif\" font-size=\"11.00\" fill=\"#444443\"> &#160;&#160;&#160;</text>\n",
       "</g>\n",
       "<!-- node4404616720&#45;&gt;node4404614032 -->\n",
       "<g id=\"edge2\" class=\"edge\">\n",
       "<title>node4404616720:c&#45;&gt;node4404614032</title>\n",
       "<path fill=\"none\" stroke=\"#444443\" stroke-width=\".5\" d=\"M112.7624,-24.8419C117.8442,-26.1533 128.1721,-28.8186 138.7704,-31.5537\"/>\n",
       "<ellipse fill=\"#444443\" stroke=\"#444443\" stroke-width=\".5\" cx=\"111.0492\" cy=\"-24.3998\" rx=\"1.6\" ry=\"1.6\"/>\n",
       "<polygon fill=\"#444443\" stroke=\"#444443\" stroke-width=\".5\" points=\"138.4551,-32.9181 142.6781,-32.5621 139.1548,-30.2069 138.4551,-32.9181\"/>\n",
       "</g>\n",
       "<!-- node4404615208 -->\n",
       "<g id=\"node2\" class=\"node\">\n",
       "<title>node4404615208</title>\n",
       "<polygon fill=\"#fefecd\" stroke=\"#444443\" stroke-width=\".5\" points=\"279,-63.5 222,-63.5 222,-16.5 279,-16.5 279,-63.5\"/>\n",
       "<polygon fill=\"#fefecd\" stroke=\"transparent\" points=\"224.5,-48 224.5,-61 277.5,-61 277.5,-48 224.5,-48\"/>\n",
       "<polyline fill=\"none\" stroke=\"#444443\" points=\"224.5,-48 277.5,-48 \"/>\n",
       "<text text-anchor=\"start\" x=\"225.0361\" y=\"-51.2\" font-family=\"Times,serif\" font-style=\"italic\" font-size=\"11.00\" fill=\"#444443\">QueueNode</text>\n",
       "<polygon fill=\"#fefecd\" stroke=\"transparent\" points=\"224.5,-46 224.5,-48 277.5,-48 277.5,-46 224.5,-46\"/>\n",
       "<polygon fill=\"#fefecd\" stroke=\"transparent\" points=\"224.5,-33 224.5,-46 255.5,-46 255.5,-33 224.5,-33\"/>\n",
       "<polyline fill=\"none\" stroke=\"#444443\" points=\"255.5,-33 255.5,-46 \"/>\n",
       "<text text-anchor=\"start\" x=\"230.0347\" y=\"-36.2\" font-family=\"Helvetica,sans-Serif\" font-size=\"11.00\" fill=\"#444443\">data </text>\n",
       "<polygon fill=\"#fefecd\" stroke=\"transparent\" points=\"257.5,-33 257.5,-46 277.5,-46 277.5,-33 257.5,-33\"/>\n",
       "<text text-anchor=\"start\" x=\"258.5\" y=\"-36.2\" font-family=\"Helvetica,sans-Serif\" font-size=\"11.00\" fill=\"#444443\"> 16</text>\n",
       "<polygon fill=\"#fefecd\" stroke=\"transparent\" points=\"224.5,-31 224.5,-33 277.5,-33 277.5,-31 224.5,-31\"/>\n",
       "<polygon fill=\"#fefecd\" stroke=\"transparent\" points=\"224.5,-18 224.5,-31 255.5,-31 255.5,-18 224.5,-18\"/>\n",
       "<polyline fill=\"none\" stroke=\"#444443\" points=\"255.5,-18 255.5,-31 \"/>\n",
       "<text text-anchor=\"start\" x=\"230.6523\" y=\"-21.2\" font-family=\"Helvetica,sans-Serif\" font-size=\"11.00\" fill=\"#444443\">next </text>\n",
       "<polygon fill=\"#fefecd\" stroke=\"transparent\" points=\"257.5,-18 257.5,-31 277.5,-31 277.5,-18 257.5,-18\"/>\n",
       "<text text-anchor=\"start\" x=\"258.5\" y=\"-21.2\" font-family=\"Helvetica,sans-Serif\" font-size=\"11.00\" fill=\"#444443\"> &#160;&#160;&#160;</text>\n",
       "</g>\n",
       "<!-- node4404614032&#45;&gt;node4404615208 -->\n",
       "<g id=\"edge3\" class=\"edge\">\n",
       "<title>node4404614032:c&#45;&gt;node4404615208</title>\n",
       "<path fill=\"none\" stroke=\"#444443\" stroke-width=\".5\" d=\"M191.7624,-24.8419C196.8442,-26.1533 207.1721,-28.8186 217.7704,-31.5537\"/>\n",
       "<ellipse fill=\"#444443\" stroke=\"#444443\" stroke-width=\".5\" cx=\"190.0492\" cy=\"-24.3998\" rx=\"1.6\" ry=\"1.6\"/>\n",
       "<polygon fill=\"#444443\" stroke=\"#444443\" stroke-width=\".5\" points=\"217.4551,-32.9181 221.6781,-32.5621 218.1548,-30.2069 217.4551,-32.9181\"/>\n",
       "</g>\n",
       "<!-- node4404615376 -->\n",
       "<g id=\"node4\" class=\"node\">\n",
       "<title>node4404615376</title>\n",
       "<polygon fill=\"#fefecd\" stroke=\"#444443\" stroke-width=\".5\" points=\"42,-64 0,-64 0,-32 42,-32 42,-64\"/>\n",
       "<polygon fill=\"#fefecd\" stroke=\"transparent\" points=\"2,-49 2,-62 40,-62 40,-49 2,-49\"/>\n",
       "<polyline fill=\"none\" stroke=\"#444443\" points=\"2,-49 40,-49 \"/>\n",
       "<text text-anchor=\"start\" x=\"6.6458\" y=\"-52.2\" font-family=\"Times,serif\" font-style=\"italic\" font-size=\"11.00\" fill=\"#444443\">Queue</text>\n",
       "<polygon fill=\"#fefecd\" stroke=\"transparent\" points=\"2,-47 2,-49 40,-49 40,-47 2,-47\"/>\n",
       "<polygon fill=\"#fefecd\" stroke=\"transparent\" points=\"2,-34 2,-47 26,-47 26,-34 2,-34\"/>\n",
       "<polyline fill=\"none\" stroke=\"#444443\" points=\"26,-34 26,-47 \"/>\n",
       "<text text-anchor=\"start\" x=\"2.9946\" y=\"-37.2\" font-family=\"Helvetica,sans-Serif\" font-size=\"11.00\" fill=\"#444443\">root </text>\n",
       "<polygon fill=\"#fefecd\" stroke=\"transparent\" points=\"26,-34 26,-47 40,-47 40,-34 26,-34\"/>\n",
       "<text text-anchor=\"start\" x=\"26.8877\" y=\"-37.2\" font-family=\"Helvetica,sans-Serif\" font-size=\"11.00\" fill=\"#444443\"> &#160;&#160;&#160;</text>\n",
       "</g>\n",
       "<!-- node4404615376&#45;&gt;node4404616720 -->\n",
       "<g id=\"edge1\" class=\"edge\">\n",
       "<title>node4404615376:c&#45;&gt;node4404616720</title>\n",
       "<path fill=\"none\" stroke=\"#444443\" stroke-width=\".5\" d=\"M36.3426,-40C41.061,-40 50.1681,-40 59.6974,-40\"/>\n",
       "<ellipse fill=\"#444443\" stroke=\"#444443\" stroke-width=\".5\" cx=\"34.6\" cy=\"-40\" rx=\"1.6\" ry=\"1.6\"/>\n",
       "<polygon fill=\"#444443\" stroke=\"#444443\" stroke-width=\".5\" points=\"59.7957,-41.4001 63.7957,-40 59.7957,-38.6001 59.7957,-41.4001\"/>\n",
       "</g>\n",
       "</g>\n",
       "</svg>\n"
      ],
      "text/plain": [
       "<graphviz.files.Source at 0x106891ac8>"
      ]
     },
     "execution_count": 30,
     "metadata": {},
     "output_type": "execute_result"
    }
   ],
   "source": [
    "objviz(front)"
   ]
  },
  {
   "cell_type": "code",
   "execution_count": null,
   "metadata": {},
   "outputs": [],
   "source": []
  }
 ],
 "metadata": {
  "kernelspec": {
   "display_name": "Python 3",
   "language": "python",
   "name": "python3"
  },
  "language_info": {
   "codemirror_mode": {
    "name": "ipython",
    "version": 3
   },
   "file_extension": ".py",
   "mimetype": "text/x-python",
   "name": "python",
   "nbconvert_exporter": "python",
   "pygments_lexer": "ipython3",
   "version": "3.6.8"
  }
 },
 "nbformat": 4,
 "nbformat_minor": 2
}
