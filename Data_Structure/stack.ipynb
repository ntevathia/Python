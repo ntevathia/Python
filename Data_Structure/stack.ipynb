{
 "cells": [
  {
   "cell_type": "markdown",
   "metadata": {},
   "source": [
    "## Array implementation"
   ]
  },
  {
   "cell_type": "markdown",
   "metadata": {},
   "source": [
    "<img src=\"images/stack_array.png\">"
   ]
  },
  {
   "cell_type": "code",
   "execution_count": 14,
   "metadata": {},
   "outputs": [],
   "source": [
    "class Stack:\n",
    "    def __init__(self):\n",
    "        self.elements = []\n",
    "        self.size = 0\n",
    "        \n",
    "    def push(self, value):\n",
    "        self.elements.append(value)\n",
    "        self.size += 1\n",
    "        print(f\"Added {value}\")\n",
    "        \n",
    "    def pop(self):\n",
    "        if self.is_empty():\n",
    "            return float(\"-inf\")\n",
    "        remove = self.elements.pop()\n",
    "        self.size -= 1\n",
    "        return remove\n",
    "    \n",
    "    def peek(self):\n",
    "        if self.is_empty():\n",
    "            return float(\"-inf\")\n",
    "        return self.elements[-1]\n",
    "    \n",
    "    def is_empty(self):\n",
    "        return self.size == 0\n",
    "    \n",
    "    def __str__(self):\n",
    "        return str(self.elements)"
   ]
  },
  {
   "cell_type": "code",
   "execution_count": 15,
   "metadata": {},
   "outputs": [],
   "source": [
    "s = Stack()"
   ]
  },
  {
   "cell_type": "code",
   "execution_count": 16,
   "metadata": {},
   "outputs": [
    {
     "name": "stdout",
     "output_type": "stream",
     "text": [
      "Added 10\n",
      "Added 21\n",
      "Added 4\n",
      "Added dog\n",
      "Added 98.1\n"
     ]
    }
   ],
   "source": [
    "s.push(10)\n",
    "s.push(21)\n",
    "s.push(4)\n",
    "s.push('dog')\n",
    "s.push('98.1')"
   ]
  },
  {
   "cell_type": "code",
   "execution_count": 17,
   "metadata": {},
   "outputs": [
    {
     "data": {
      "text/plain": [
       "'98.1'"
      ]
     },
     "execution_count": 17,
     "metadata": {},
     "output_type": "execute_result"
    }
   ],
   "source": [
    "s.pop()"
   ]
  },
  {
   "cell_type": "code",
   "execution_count": 18,
   "metadata": {},
   "outputs": [
    {
     "data": {
      "text/plain": [
       "'dog'"
      ]
     },
     "execution_count": 18,
     "metadata": {},
     "output_type": "execute_result"
    }
   ],
   "source": [
    "s.pop()"
   ]
  },
  {
   "cell_type": "code",
   "execution_count": 19,
   "metadata": {},
   "outputs": [
    {
     "data": {
      "text/plain": [
       "4"
      ]
     },
     "execution_count": 19,
     "metadata": {},
     "output_type": "execute_result"
    }
   ],
   "source": [
    "s.peek()"
   ]
  },
  {
   "cell_type": "code",
   "execution_count": 20,
   "metadata": {},
   "outputs": [
    {
     "data": {
      "text/plain": [
       "False"
      ]
     },
     "execution_count": 20,
     "metadata": {},
     "output_type": "execute_result"
    }
   ],
   "source": [
    "s.is_empty()"
   ]
  },
  {
   "cell_type": "code",
   "execution_count": 21,
   "metadata": {},
   "outputs": [
    {
     "name": "stdout",
     "output_type": "stream",
     "text": [
      "[10, 21, 4]\n"
     ]
    }
   ],
   "source": [
    "print(s)"
   ]
  },
  {
   "cell_type": "code",
   "execution_count": 22,
   "metadata": {},
   "outputs": [
    {
     "data": {
      "text/plain": [
       "3"
      ]
     },
     "execution_count": 22,
     "metadata": {},
     "output_type": "execute_result"
    }
   ],
   "source": [
    "s.size"
   ]
  },
  {
   "cell_type": "code",
   "execution_count": 23,
   "metadata": {},
   "outputs": [
    {
     "data": {
      "text/plain": [
       "10"
      ]
     },
     "execution_count": 23,
     "metadata": {},
     "output_type": "execute_result"
    }
   ],
   "source": [
    "s.pop()\n",
    "s.pop()\n",
    "s.pop()"
   ]
  },
  {
   "cell_type": "code",
   "execution_count": 24,
   "metadata": {},
   "outputs": [
    {
     "data": {
      "text/plain": [
       "-inf"
      ]
     },
     "execution_count": 24,
     "metadata": {},
     "output_type": "execute_result"
    }
   ],
   "source": [
    "s.pop()"
   ]
  },
  {
   "cell_type": "code",
   "execution_count": 25,
   "metadata": {},
   "outputs": [
    {
     "data": {
      "text/plain": [
       "0"
      ]
     },
     "execution_count": 25,
     "metadata": {},
     "output_type": "execute_result"
    }
   ],
   "source": [
    "s.size"
   ]
  },
  {
   "cell_type": "markdown",
   "metadata": {},
   "source": [
    "## LinkedList Implementation"
   ]
  },
  {
   "cell_type": "markdown",
   "metadata": {},
   "source": [
    "<img src=\"images/Stack_ll.jpg\">"
   ]
  },
  {
   "cell_type": "code",
   "execution_count": 26,
   "metadata": {},
   "outputs": [],
   "source": [
    "class StackNode: \n",
    "    def __init__(self, value): \n",
    "        self.data = value  \n",
    "        self.next = None\n",
    "\n",
    "class Stack: \n",
    "    def __init__(self): \n",
    "        self.root = None\n",
    "  \n",
    "    def push(self, value): \n",
    "        Node = StackNode(value) \n",
    "        Node.next = self.root  \n",
    "        self.root = Node \n",
    "        print(f\"Added {value}\")\n",
    "      \n",
    "    def pop(self): \n",
    "        if self.is_empty(): \n",
    "            return float(\"-inf\") \n",
    "        p = self.root  \n",
    "        self.root = self.root.next \n",
    "        return p.data\n",
    "      \n",
    "    def peek(self): \n",
    "        if self.is_empty(): \n",
    "            return float(\"-inf\") \n",
    "        return self.root.data \n",
    "    \n",
    "    def is_empty(self): \n",
    "        return True if self.root is None else False \n",
    "  \n"
   ]
  },
  {
   "cell_type": "code",
   "execution_count": 30,
   "metadata": {},
   "outputs": [
    {
     "name": "stdout",
     "output_type": "stream",
     "text": [
      "Added 10\n",
      "Added 20\n",
      "Added 30\n"
     ]
    }
   ],
   "source": [
    "root = Stack() \n",
    "root.push(10)         \n",
    "root.push(20) \n",
    "root.push(30) "
   ]
  },
  {
   "cell_type": "code",
   "execution_count": 28,
   "metadata": {},
   "outputs": [],
   "source": [
    "from lolviz import *"
   ]
  },
  {
   "cell_type": "code",
   "execution_count": 31,
   "metadata": {},
   "outputs": [
    {
     "data": {
      "image/svg+xml": [
       "<?xml version=\"1.0\" encoding=\"UTF-8\" standalone=\"no\"?>\n",
       "<!DOCTYPE svg PUBLIC \"-//W3C//DTD SVG 1.1//EN\"\n",
       " \"http://www.w3.org/Graphics/SVG/1.1/DTD/svg11.dtd\">\n",
       "<!-- Generated by graphviz version 2.40.1 (20161225.0304)\n",
       " -->\n",
       "<!-- Title: G Pages: 1 -->\n",
       "<svg width=\"291pt\" height=\"88pt\"\n",
       " viewBox=\"0.00 0.00 291.00 88.00\" xmlns=\"http://www.w3.org/2000/svg\" xmlns:xlink=\"http://www.w3.org/1999/xlink\">\n",
       "<g id=\"graph0\" class=\"graph\" transform=\"scale(1 1) rotate(0) translate(4 84)\">\n",
       "<title>G</title>\n",
       "<polygon fill=\"#ffffff\" stroke=\"transparent\" points=\"-4,4 -4,-84 287,-84 287,4 -4,4\"/>\n",
       "<g id=\"clust1\" class=\"cluster\">\n",
       "<title>cluster1</title>\n",
       "</g>\n",
       "<!-- node4513481224 -->\n",
       "<g id=\"node1\" class=\"node\">\n",
       "<title>node4513481224</title>\n",
       "<polygon fill=\"#fefecd\" stroke=\"#444443\" stroke-width=\".5\" points=\"267,-63.5 214,-63.5 214,-16.5 267,-16.5 267,-63.5\"/>\n",
       "<polygon fill=\"#fefecd\" stroke=\"transparent\" points=\"216.5,-48 216.5,-61 265.5,-61 265.5,-48 216.5,-48\"/>\n",
       "<polyline fill=\"none\" stroke=\"#444443\" points=\"216.5,-48 265.5,-48 \"/>\n",
       "<text text-anchor=\"start\" x=\"217.48\" y=\"-51.2\" font-family=\"Times,serif\" font-style=\"italic\" font-size=\"11.00\" fill=\"#444443\">StackNode</text>\n",
       "<polygon fill=\"#fefecd\" stroke=\"transparent\" points=\"216.5,-46 216.5,-48 265.5,-48 265.5,-46 216.5,-46\"/>\n",
       "<polygon fill=\"#fefecd\" stroke=\"transparent\" points=\"216.5,-33 216.5,-46 245.5,-46 245.5,-33 216.5,-33\"/>\n",
       "<polyline fill=\"none\" stroke=\"#444443\" points=\"245.5,-33 245.5,-46 \"/>\n",
       "<text text-anchor=\"start\" x=\"220.0347\" y=\"-36.2\" font-family=\"Helvetica,sans-Serif\" font-size=\"11.00\" fill=\"#444443\">data </text>\n",
       "<polygon fill=\"#fefecd\" stroke=\"transparent\" points=\"246.5,-33 246.5,-46 265.5,-46 265.5,-33 246.5,-33\"/>\n",
       "<text text-anchor=\"start\" x=\"247.5\" y=\"-36.2\" font-family=\"Helvetica,sans-Serif\" font-size=\"11.00\" fill=\"#444443\"> 10</text>\n",
       "<polygon fill=\"#fefecd\" stroke=\"transparent\" points=\"216.5,-31 216.5,-33 265.5,-33 265.5,-31 216.5,-31\"/>\n",
       "<polygon fill=\"#fefecd\" stroke=\"transparent\" points=\"216.5,-18 216.5,-31 245.5,-31 245.5,-18 216.5,-18\"/>\n",
       "<polyline fill=\"none\" stroke=\"#444443\" points=\"245.5,-18 245.5,-31 \"/>\n",
       "<text text-anchor=\"start\" x=\"220.6523\" y=\"-21.2\" font-family=\"Helvetica,sans-Serif\" font-size=\"11.00\" fill=\"#444443\">next </text>\n",
       "<polygon fill=\"#fefecd\" stroke=\"transparent\" points=\"246.5,-18 246.5,-31 265.5,-31 265.5,-18 246.5,-18\"/>\n",
       "<text text-anchor=\"start\" x=\"247.5\" y=\"-21.2\" font-family=\"Helvetica,sans-Serif\" font-size=\"11.00\" fill=\"#444443\"> &#160;&#160;&#160;</text>\n",
       "</g>\n",
       "<!-- node4513481616 -->\n",
       "<g id=\"node2\" class=\"node\">\n",
       "<title>node4513481616</title>\n",
       "<polygon fill=\"#fefecd\" stroke=\"#444443\" stroke-width=\".5\" points=\"117,-63.5 64,-63.5 64,-16.5 117,-16.5 117,-63.5\"/>\n",
       "<polygon fill=\"#fefecd\" stroke=\"transparent\" points=\"66.5,-48 66.5,-61 115.5,-61 115.5,-48 66.5,-48\"/>\n",
       "<polyline fill=\"none\" stroke=\"#444443\" points=\"66.5,-48 115.5,-48 \"/>\n",
       "<text text-anchor=\"start\" x=\"67.48\" y=\"-51.2\" font-family=\"Times,serif\" font-style=\"italic\" font-size=\"11.00\" fill=\"#444443\">StackNode</text>\n",
       "<polygon fill=\"#fefecd\" stroke=\"transparent\" points=\"66.5,-46 66.5,-48 115.5,-48 115.5,-46 66.5,-46\"/>\n",
       "<polygon fill=\"#fefecd\" stroke=\"transparent\" points=\"66.5,-33 66.5,-46 95.5,-46 95.5,-33 66.5,-33\"/>\n",
       "<polyline fill=\"none\" stroke=\"#444443\" points=\"95.5,-33 95.5,-46 \"/>\n",
       "<text text-anchor=\"start\" x=\"70.0347\" y=\"-36.2\" font-family=\"Helvetica,sans-Serif\" font-size=\"11.00\" fill=\"#444443\">data </text>\n",
       "<polygon fill=\"#fefecd\" stroke=\"transparent\" points=\"96.5,-33 96.5,-46 115.5,-46 115.5,-33 96.5,-33\"/>\n",
       "<text text-anchor=\"start\" x=\"97.5\" y=\"-36.2\" font-family=\"Helvetica,sans-Serif\" font-size=\"11.00\" fill=\"#444443\"> 30</text>\n",
       "<polygon fill=\"#fefecd\" stroke=\"transparent\" points=\"66.5,-31 66.5,-33 115.5,-33 115.5,-31 66.5,-31\"/>\n",
       "<polygon fill=\"#fefecd\" stroke=\"transparent\" points=\"66.5,-18 66.5,-31 95.5,-31 95.5,-18 66.5,-18\"/>\n",
       "<polyline fill=\"none\" stroke=\"#444443\" points=\"95.5,-18 95.5,-31 \"/>\n",
       "<text text-anchor=\"start\" x=\"70.6523\" y=\"-21.2\" font-family=\"Helvetica,sans-Serif\" font-size=\"11.00\" fill=\"#444443\">next </text>\n",
       "<polygon fill=\"#fefecd\" stroke=\"transparent\" points=\"96.5,-18 96.5,-31 115.5,-31 115.5,-18 96.5,-18\"/>\n",
       "<text text-anchor=\"start\" x=\"97.5\" y=\"-21.2\" font-family=\"Helvetica,sans-Serif\" font-size=\"11.00\" fill=\"#444443\"> &#160;&#160;&#160;</text>\n",
       "</g>\n",
       "<!-- node4513481336 -->\n",
       "<g id=\"node3\" class=\"node\">\n",
       "<title>node4513481336</title>\n",
       "<polygon fill=\"#fefecd\" stroke=\"#444443\" stroke-width=\".5\" points=\"192,-63.5 139,-63.5 139,-16.5 192,-16.5 192,-63.5\"/>\n",
       "<polygon fill=\"#fefecd\" stroke=\"transparent\" points=\"141.5,-48 141.5,-61 190.5,-61 190.5,-48 141.5,-48\"/>\n",
       "<polyline fill=\"none\" stroke=\"#444443\" points=\"141.5,-48 190.5,-48 \"/>\n",
       "<text text-anchor=\"start\" x=\"142.48\" y=\"-51.2\" font-family=\"Times,serif\" font-style=\"italic\" font-size=\"11.00\" fill=\"#444443\">StackNode</text>\n",
       "<polygon fill=\"#fefecd\" stroke=\"transparent\" points=\"141.5,-46 141.5,-48 190.5,-48 190.5,-46 141.5,-46\"/>\n",
       "<polygon fill=\"#fefecd\" stroke=\"transparent\" points=\"141.5,-33 141.5,-46 170.5,-46 170.5,-33 141.5,-33\"/>\n",
       "<polyline fill=\"none\" stroke=\"#444443\" points=\"170.5,-33 170.5,-46 \"/>\n",
       "<text text-anchor=\"start\" x=\"145.0347\" y=\"-36.2\" font-family=\"Helvetica,sans-Serif\" font-size=\"11.00\" fill=\"#444443\">data </text>\n",
       "<polygon fill=\"#fefecd\" stroke=\"transparent\" points=\"171.5,-33 171.5,-46 190.5,-46 190.5,-33 171.5,-33\"/>\n",
       "<text text-anchor=\"start\" x=\"172.5\" y=\"-36.2\" font-family=\"Helvetica,sans-Serif\" font-size=\"11.00\" fill=\"#444443\"> 20</text>\n",
       "<polygon fill=\"#fefecd\" stroke=\"transparent\" points=\"141.5,-31 141.5,-33 190.5,-33 190.5,-31 141.5,-31\"/>\n",
       "<polygon fill=\"#fefecd\" stroke=\"transparent\" points=\"141.5,-18 141.5,-31 170.5,-31 170.5,-18 141.5,-18\"/>\n",
       "<polyline fill=\"none\" stroke=\"#444443\" points=\"170.5,-18 170.5,-31 \"/>\n",
       "<text text-anchor=\"start\" x=\"145.6523\" y=\"-21.2\" font-family=\"Helvetica,sans-Serif\" font-size=\"11.00\" fill=\"#444443\">next </text>\n",
       "<polygon fill=\"#fefecd\" stroke=\"transparent\" points=\"171.5,-18 171.5,-31 190.5,-31 190.5,-18 171.5,-18\"/>\n",
       "<text text-anchor=\"start\" x=\"172.5\" y=\"-21.2\" font-family=\"Helvetica,sans-Serif\" font-size=\"11.00\" fill=\"#444443\"> &#160;&#160;&#160;</text>\n",
       "</g>\n",
       "<!-- node4513481616&#45;&gt;node4513481336 -->\n",
       "<g id=\"edge2\" class=\"edge\">\n",
       "<title>node4513481616:c&#45;&gt;node4513481336</title>\n",
       "<path fill=\"none\" stroke=\"#444443\" stroke-width=\".5\" d=\"M109.693,-24.8659C114.6188,-26.2017 124.568,-28.8998 134.7198,-31.6528\"/>\n",
       "<ellipse fill=\"#444443\" stroke=\"#444443\" stroke-width=\".5\" cx=\"108.0442\" cy=\"-24.4188\" rx=\"1.6\" ry=\"1.6\"/>\n",
       "<polygon fill=\"#444443\" stroke=\"#444443\" stroke-width=\".5\" points=\"134.535,-33.0532 138.762,-32.749 135.2679,-30.3508 134.535,-33.0532\"/>\n",
       "</g>\n",
       "<!-- node4513481336&#45;&gt;node4513481224 -->\n",
       "<g id=\"edge3\" class=\"edge\">\n",
       "<title>node4513481336:c&#45;&gt;node4513481224</title>\n",
       "<path fill=\"none\" stroke=\"#444443\" stroke-width=\".5\" d=\"M184.693,-24.8659C189.6188,-26.2017 199.568,-28.8998 209.7198,-31.6528\"/>\n",
       "<ellipse fill=\"#444443\" stroke=\"#444443\" stroke-width=\".5\" cx=\"183.0442\" cy=\"-24.4188\" rx=\"1.6\" ry=\"1.6\"/>\n",
       "<polygon fill=\"#444443\" stroke=\"#444443\" stroke-width=\".5\" points=\"209.535,-33.0532 213.762,-32.749 210.2679,-30.3508 209.535,-33.0532\"/>\n",
       "</g>\n",
       "<!-- node4513481280 -->\n",
       "<g id=\"node4\" class=\"node\">\n",
       "<title>node4513481280</title>\n",
       "<polygon fill=\"#fefecd\" stroke=\"#444443\" stroke-width=\".5\" points=\"42,-64 0,-64 0,-32 42,-32 42,-64\"/>\n",
       "<polygon fill=\"#fefecd\" stroke=\"transparent\" points=\"2,-49 2,-62 40,-62 40,-49 2,-49\"/>\n",
       "<polyline fill=\"none\" stroke=\"#444443\" points=\"2,-49 40,-49 \"/>\n",
       "<text text-anchor=\"start\" x=\"9.0896\" y=\"-52.2\" font-family=\"Times,serif\" font-style=\"italic\" font-size=\"11.00\" fill=\"#444443\">Stack</text>\n",
       "<polygon fill=\"#fefecd\" stroke=\"transparent\" points=\"2,-47 2,-49 40,-49 40,-47 2,-47\"/>\n",
       "<polygon fill=\"#fefecd\" stroke=\"transparent\" points=\"2,-34 2,-47 26,-47 26,-34 2,-34\"/>\n",
       "<polyline fill=\"none\" stroke=\"#444443\" points=\"26,-34 26,-47 \"/>\n",
       "<text text-anchor=\"start\" x=\"2.9946\" y=\"-37.2\" font-family=\"Helvetica,sans-Serif\" font-size=\"11.00\" fill=\"#444443\">root </text>\n",
       "<polygon fill=\"#fefecd\" stroke=\"transparent\" points=\"26,-34 26,-47 40,-47 40,-34 26,-34\"/>\n",
       "<text text-anchor=\"start\" x=\"26.8877\" y=\"-37.2\" font-family=\"Helvetica,sans-Serif\" font-size=\"11.00\" fill=\"#444443\"> &#160;&#160;&#160;</text>\n",
       "</g>\n",
       "<!-- node4513481280&#45;&gt;node4513481616 -->\n",
       "<g id=\"edge1\" class=\"edge\">\n",
       "<title>node4513481280:c&#45;&gt;node4513481616</title>\n",
       "<path fill=\"none\" stroke=\"#444443\" stroke-width=\".5\" d=\"M36.3716,-40C41.1244,-40 50.2736,-40 59.7169,-40\"/>\n",
       "<ellipse fill=\"#444443\" stroke=\"#444443\" stroke-width=\".5\" cx=\"34.6\" cy=\"-40\" rx=\"1.6\" ry=\"1.6\"/>\n",
       "<polygon fill=\"#444443\" stroke=\"#444443\" stroke-width=\".5\" points=\"59.77,-41.4001 63.77,-40 59.77,-38.6001 59.77,-41.4001\"/>\n",
       "</g>\n",
       "</g>\n",
       "</svg>\n"
      ],
      "text/plain": [
       "<graphviz.files.Source at 0x10ce3df60>"
      ]
     },
     "execution_count": 31,
     "metadata": {},
     "output_type": "execute_result"
    }
   ],
   "source": [
    "objviz(root)"
   ]
  },
  {
   "cell_type": "code",
   "execution_count": 32,
   "metadata": {},
   "outputs": [
    {
     "name": "stdout",
     "output_type": "stream",
     "text": [
      "Added hi\n",
      "Added bye\n",
      "Added good\n"
     ]
    }
   ],
   "source": [
    "root.push(\"hi\")         \n",
    "root.push(\"bye\") \n",
    "root.push(\"good\") "
   ]
  },
  {
   "cell_type": "code",
   "execution_count": 33,
   "metadata": {},
   "outputs": [
    {
     "data": {
      "image/svg+xml": [
       "<?xml version=\"1.0\" encoding=\"UTF-8\" standalone=\"no\"?>\n",
       "<!DOCTYPE svg PUBLIC \"-//W3C//DTD SVG 1.1//EN\"\n",
       " \"http://www.w3.org/Graphics/SVG/1.1/DTD/svg11.dtd\">\n",
       "<!-- Generated by graphviz version 2.40.1 (20161225.0304)\n",
       " -->\n",
       "<!-- Title: G Pages: 1 -->\n",
       "<svg width=\"529pt\" height=\"88pt\"\n",
       " viewBox=\"0.00 0.00 529.00 88.00\" xmlns=\"http://www.w3.org/2000/svg\" xmlns:xlink=\"http://www.w3.org/1999/xlink\">\n",
       "<g id=\"graph0\" class=\"graph\" transform=\"scale(1 1) rotate(0) translate(4 84)\">\n",
       "<title>G</title>\n",
       "<polygon fill=\"#ffffff\" stroke=\"transparent\" points=\"-4,4 -4,-84 525,-84 525,4 -4,4\"/>\n",
       "<g id=\"clust1\" class=\"cluster\">\n",
       "<title>cluster1</title>\n",
       "</g>\n",
       "<!-- node4513481728 -->\n",
       "<g id=\"node1\" class=\"node\">\n",
       "<title>node4513481728</title>\n",
       "<polygon fill=\"#fefecd\" stroke=\"#444443\" stroke-width=\".5\" points=\"280,-63.5 227,-63.5 227,-16.5 280,-16.5 280,-63.5\"/>\n",
       "<polygon fill=\"#fefecd\" stroke=\"transparent\" points=\"229.5,-48 229.5,-61 278.5,-61 278.5,-48 229.5,-48\"/>\n",
       "<polyline fill=\"none\" stroke=\"#444443\" points=\"229.5,-48 278.5,-48 \"/>\n",
       "<text text-anchor=\"start\" x=\"230.48\" y=\"-51.2\" font-family=\"Times,serif\" font-style=\"italic\" font-size=\"11.00\" fill=\"#444443\">StackNode</text>\n",
       "<polygon fill=\"#fefecd\" stroke=\"transparent\" points=\"229.5,-46 229.5,-48 278.5,-48 278.5,-46 229.5,-46\"/>\n",
       "<polygon fill=\"#fefecd\" stroke=\"transparent\" points=\"229.5,-33 229.5,-46 258.5,-46 258.5,-33 229.5,-33\"/>\n",
       "<polyline fill=\"none\" stroke=\"#444443\" points=\"258.5,-33 258.5,-46 \"/>\n",
       "<text text-anchor=\"start\" x=\"233.0347\" y=\"-36.2\" font-family=\"Helvetica,sans-Serif\" font-size=\"11.00\" fill=\"#444443\">data </text>\n",
       "<polygon fill=\"#fefecd\" stroke=\"transparent\" points=\"259.5,-33 259.5,-46 278.5,-46 278.5,-33 259.5,-33\"/>\n",
       "<text text-anchor=\"start\" x=\"260.5\" y=\"-36.2\" font-family=\"Helvetica,sans-Serif\" font-size=\"11.00\" fill=\"#444443\"> &#39;hi&#39;</text>\n",
       "<polygon fill=\"#fefecd\" stroke=\"transparent\" points=\"229.5,-31 229.5,-33 278.5,-33 278.5,-31 229.5,-31\"/>\n",
       "<polygon fill=\"#fefecd\" stroke=\"transparent\" points=\"229.5,-18 229.5,-31 258.5,-31 258.5,-18 229.5,-18\"/>\n",
       "<polyline fill=\"none\" stroke=\"#444443\" points=\"258.5,-18 258.5,-31 \"/>\n",
       "<text text-anchor=\"start\" x=\"233.6523\" y=\"-21.2\" font-family=\"Helvetica,sans-Serif\" font-size=\"11.00\" fill=\"#444443\">next </text>\n",
       "<polygon fill=\"#fefecd\" stroke=\"transparent\" points=\"259.5,-18 259.5,-31 278.5,-31 278.5,-18 259.5,-18\"/>\n",
       "<text text-anchor=\"start\" x=\"260.5\" y=\"-21.2\" font-family=\"Helvetica,sans-Serif\" font-size=\"11.00\" fill=\"#444443\"> &#160;&#160;&#160;</text>\n",
       "</g>\n",
       "<!-- node4513481616 -->\n",
       "<g id=\"node5\" class=\"node\">\n",
       "<title>node4513481616</title>\n",
       "<polygon fill=\"#fefecd\" stroke=\"#444443\" stroke-width=\".5\" points=\"355,-63.5 302,-63.5 302,-16.5 355,-16.5 355,-63.5\"/>\n",
       "<polygon fill=\"#fefecd\" stroke=\"transparent\" points=\"304.5,-48 304.5,-61 353.5,-61 353.5,-48 304.5,-48\"/>\n",
       "<polyline fill=\"none\" stroke=\"#444443\" points=\"304.5,-48 353.5,-48 \"/>\n",
       "<text text-anchor=\"start\" x=\"305.48\" y=\"-51.2\" font-family=\"Times,serif\" font-style=\"italic\" font-size=\"11.00\" fill=\"#444443\">StackNode</text>\n",
       "<polygon fill=\"#fefecd\" stroke=\"transparent\" points=\"304.5,-46 304.5,-48 353.5,-48 353.5,-46 304.5,-46\"/>\n",
       "<polygon fill=\"#fefecd\" stroke=\"transparent\" points=\"304.5,-33 304.5,-46 333.5,-46 333.5,-33 304.5,-33\"/>\n",
       "<polyline fill=\"none\" stroke=\"#444443\" points=\"333.5,-33 333.5,-46 \"/>\n",
       "<text text-anchor=\"start\" x=\"308.0347\" y=\"-36.2\" font-family=\"Helvetica,sans-Serif\" font-size=\"11.00\" fill=\"#444443\">data </text>\n",
       "<polygon fill=\"#fefecd\" stroke=\"transparent\" points=\"334.5,-33 334.5,-46 353.5,-46 353.5,-33 334.5,-33\"/>\n",
       "<text text-anchor=\"start\" x=\"335.5\" y=\"-36.2\" font-family=\"Helvetica,sans-Serif\" font-size=\"11.00\" fill=\"#444443\"> 30</text>\n",
       "<polygon fill=\"#fefecd\" stroke=\"transparent\" points=\"304.5,-31 304.5,-33 353.5,-33 353.5,-31 304.5,-31\"/>\n",
       "<polygon fill=\"#fefecd\" stroke=\"transparent\" points=\"304.5,-18 304.5,-31 333.5,-31 333.5,-18 304.5,-18\"/>\n",
       "<polyline fill=\"none\" stroke=\"#444443\" points=\"333.5,-18 333.5,-31 \"/>\n",
       "<text text-anchor=\"start\" x=\"308.6523\" y=\"-21.2\" font-family=\"Helvetica,sans-Serif\" font-size=\"11.00\" fill=\"#444443\">next </text>\n",
       "<polygon fill=\"#fefecd\" stroke=\"transparent\" points=\"334.5,-18 334.5,-31 353.5,-31 353.5,-18 334.5,-18\"/>\n",
       "<text text-anchor=\"start\" x=\"335.5\" y=\"-21.2\" font-family=\"Helvetica,sans-Serif\" font-size=\"11.00\" fill=\"#444443\"> &#160;&#160;&#160;</text>\n",
       "</g>\n",
       "<!-- node4513481728&#45;&gt;node4513481616 -->\n",
       "<g id=\"edge4\" class=\"edge\">\n",
       "<title>node4513481728:c&#45;&gt;node4513481616</title>\n",
       "<path fill=\"none\" stroke=\"#444443\" stroke-width=\".5\" d=\"M272.693,-24.8659C277.6188,-26.2017 287.568,-28.8998 297.7198,-31.6528\"/>\n",
       "<ellipse fill=\"#444443\" stroke=\"#444443\" stroke-width=\".5\" cx=\"271.0442\" cy=\"-24.4188\" rx=\"1.6\" ry=\"1.6\"/>\n",
       "<polygon fill=\"#444443\" stroke=\"#444443\" stroke-width=\".5\" points=\"297.535,-33.0532 301.762,-32.749 298.2679,-30.3508 297.535,-33.0532\"/>\n",
       "</g>\n",
       "<!-- node4513481224 -->\n",
       "<g id=\"node2\" class=\"node\">\n",
       "<title>node4513481224</title>\n",
       "<polygon fill=\"#fefecd\" stroke=\"#444443\" stroke-width=\".5\" points=\"505,-63.5 452,-63.5 452,-16.5 505,-16.5 505,-63.5\"/>\n",
       "<polygon fill=\"#fefecd\" stroke=\"transparent\" points=\"454.5,-48 454.5,-61 503.5,-61 503.5,-48 454.5,-48\"/>\n",
       "<polyline fill=\"none\" stroke=\"#444443\" points=\"454.5,-48 503.5,-48 \"/>\n",
       "<text text-anchor=\"start\" x=\"455.48\" y=\"-51.2\" font-family=\"Times,serif\" font-style=\"italic\" font-size=\"11.00\" fill=\"#444443\">StackNode</text>\n",
       "<polygon fill=\"#fefecd\" stroke=\"transparent\" points=\"454.5,-46 454.5,-48 503.5,-48 503.5,-46 454.5,-46\"/>\n",
       "<polygon fill=\"#fefecd\" stroke=\"transparent\" points=\"454.5,-33 454.5,-46 483.5,-46 483.5,-33 454.5,-33\"/>\n",
       "<polyline fill=\"none\" stroke=\"#444443\" points=\"483.5,-33 483.5,-46 \"/>\n",
       "<text text-anchor=\"start\" x=\"458.0347\" y=\"-36.2\" font-family=\"Helvetica,sans-Serif\" font-size=\"11.00\" fill=\"#444443\">data </text>\n",
       "<polygon fill=\"#fefecd\" stroke=\"transparent\" points=\"484.5,-33 484.5,-46 503.5,-46 503.5,-33 484.5,-33\"/>\n",
       "<text text-anchor=\"start\" x=\"485.5\" y=\"-36.2\" font-family=\"Helvetica,sans-Serif\" font-size=\"11.00\" fill=\"#444443\"> 10</text>\n",
       "<polygon fill=\"#fefecd\" stroke=\"transparent\" points=\"454.5,-31 454.5,-33 503.5,-33 503.5,-31 454.5,-31\"/>\n",
       "<polygon fill=\"#fefecd\" stroke=\"transparent\" points=\"454.5,-18 454.5,-31 483.5,-31 483.5,-18 454.5,-18\"/>\n",
       "<polyline fill=\"none\" stroke=\"#444443\" points=\"483.5,-18 483.5,-31 \"/>\n",
       "<text text-anchor=\"start\" x=\"458.6523\" y=\"-21.2\" font-family=\"Helvetica,sans-Serif\" font-size=\"11.00\" fill=\"#444443\">next </text>\n",
       "<polygon fill=\"#fefecd\" stroke=\"transparent\" points=\"484.5,-18 484.5,-31 503.5,-31 503.5,-18 484.5,-18\"/>\n",
       "<text text-anchor=\"start\" x=\"485.5\" y=\"-21.2\" font-family=\"Helvetica,sans-Serif\" font-size=\"11.00\" fill=\"#444443\"> &#160;&#160;&#160;</text>\n",
       "</g>\n",
       "<!-- node4513481784 -->\n",
       "<g id=\"node3\" class=\"node\">\n",
       "<title>node4513481784</title>\n",
       "<polygon fill=\"#fefecd\" stroke=\"#444443\" stroke-width=\".5\" points=\"127,-63.5 64,-63.5 64,-16.5 127,-16.5 127,-63.5\"/>\n",
       "<polygon fill=\"#fefecd\" stroke=\"transparent\" points=\"66.5,-48 66.5,-61 125.5,-61 125.5,-48 66.5,-48\"/>\n",
       "<polyline fill=\"none\" stroke=\"#444443\" points=\"66.5,-48 125.5,-48 \"/>\n",
       "<text text-anchor=\"start\" x=\"72.48\" y=\"-51.2\" font-family=\"Times,serif\" font-style=\"italic\" font-size=\"11.00\" fill=\"#444443\">StackNode</text>\n",
       "<polygon fill=\"#fefecd\" stroke=\"transparent\" points=\"66.5,-46 66.5,-48 125.5,-48 125.5,-46 66.5,-46\"/>\n",
       "<polygon fill=\"#fefecd\" stroke=\"transparent\" points=\"66.5,-33 66.5,-46 92.5,-46 92.5,-33 66.5,-33\"/>\n",
       "<polyline fill=\"none\" stroke=\"#444443\" points=\"92.5,-33 92.5,-46 \"/>\n",
       "<text text-anchor=\"start\" x=\"67.2673\" y=\"-36.2\" font-family=\"Helvetica,sans-Serif\" font-size=\"11.00\" fill=\"#444443\">data </text>\n",
       "<polygon fill=\"#fefecd\" stroke=\"transparent\" points=\"92.5,-33 92.5,-46 125.5,-46 125.5,-33 92.5,-33\"/>\n",
       "<text text-anchor=\"start\" x=\"93.1365\" y=\"-36.2\" font-family=\"Helvetica,sans-Serif\" font-size=\"11.00\" fill=\"#444443\"> &#39;good&#39;</text>\n",
       "<polygon fill=\"#fefecd\" stroke=\"transparent\" points=\"66.5,-31 66.5,-33 125.5,-33 125.5,-31 66.5,-31\"/>\n",
       "<polygon fill=\"#fefecd\" stroke=\"transparent\" points=\"66.5,-18 66.5,-31 92.5,-31 92.5,-18 66.5,-18\"/>\n",
       "<polyline fill=\"none\" stroke=\"#444443\" points=\"92.5,-18 92.5,-31 \"/>\n",
       "<text text-anchor=\"start\" x=\"67.6523\" y=\"-21.2\" font-family=\"Helvetica,sans-Serif\" font-size=\"11.00\" fill=\"#444443\">next </text>\n",
       "<polygon fill=\"#fefecd\" stroke=\"transparent\" points=\"92.5,-18 92.5,-31 125.5,-31 125.5,-18 92.5,-18\"/>\n",
       "<text text-anchor=\"start\" x=\"93.5\" y=\"-21.2\" font-family=\"Helvetica,sans-Serif\" font-size=\"11.00\" fill=\"#444443\"> &#160;&#160;&#160;</text>\n",
       "</g>\n",
       "<!-- node4513481672 -->\n",
       "<g id=\"node6\" class=\"node\">\n",
       "<title>node4513481672</title>\n",
       "<polygon fill=\"#fefecd\" stroke=\"#444443\" stroke-width=\".5\" points=\"205,-63.5 149,-63.5 149,-16.5 205,-16.5 205,-63.5\"/>\n",
       "<polygon fill=\"#fefecd\" stroke=\"transparent\" points=\"151,-48 151,-61 203,-61 203,-48 151,-48\"/>\n",
       "<polyline fill=\"none\" stroke=\"#444443\" points=\"151,-48 203,-48 \"/>\n",
       "<text text-anchor=\"start\" x=\"153.48\" y=\"-51.2\" font-family=\"Times,serif\" font-style=\"italic\" font-size=\"11.00\" fill=\"#444443\">StackNode</text>\n",
       "<polygon fill=\"#fefecd\" stroke=\"transparent\" points=\"151,-46 151,-48 203,-48 203,-46 151,-46\"/>\n",
       "<polygon fill=\"#fefecd\" stroke=\"transparent\" points=\"151,-33 151,-46 177,-46 177,-33 151,-33\"/>\n",
       "<polyline fill=\"none\" stroke=\"#444443\" points=\"177,-33 177,-46 \"/>\n",
       "<text text-anchor=\"start\" x=\"151.7673\" y=\"-36.2\" font-family=\"Helvetica,sans-Serif\" font-size=\"11.00\" fill=\"#444443\">data </text>\n",
       "<polygon fill=\"#fefecd\" stroke=\"transparent\" points=\"177,-33 177,-46 203,-46 203,-33 177,-33\"/>\n",
       "<text text-anchor=\"start\" x=\"177.5042\" y=\"-36.2\" font-family=\"Helvetica,sans-Serif\" font-size=\"11.00\" fill=\"#444443\"> &#39;bye&#39;</text>\n",
       "<polygon fill=\"#fefecd\" stroke=\"transparent\" points=\"151,-31 151,-33 203,-33 203,-31 151,-31\"/>\n",
       "<polygon fill=\"#fefecd\" stroke=\"transparent\" points=\"151,-18 151,-31 177,-31 177,-18 151,-18\"/>\n",
       "<polyline fill=\"none\" stroke=\"#444443\" points=\"177,-18 177,-31 \"/>\n",
       "<text text-anchor=\"start\" x=\"152.1523\" y=\"-21.2\" font-family=\"Helvetica,sans-Serif\" font-size=\"11.00\" fill=\"#444443\">next </text>\n",
       "<polygon fill=\"#fefecd\" stroke=\"transparent\" points=\"177,-18 177,-31 203,-31 203,-18 177,-18\"/>\n",
       "<text text-anchor=\"start\" x=\"178\" y=\"-21.2\" font-family=\"Helvetica,sans-Serif\" font-size=\"11.00\" fill=\"#444443\"> &#160;&#160;&#160;</text>\n",
       "</g>\n",
       "<!-- node4513481784&#45;&gt;node4513481672 -->\n",
       "<g id=\"edge2\" class=\"edge\">\n",
       "<title>node4513481784:c&#45;&gt;node4513481672</title>\n",
       "<path fill=\"none\" stroke=\"#444443\" stroke-width=\".5\" d=\"M112.6259,-24.7409C118.5024,-26.1339 131.7777,-29.2806 144.7555,-32.3569\"/>\n",
       "<ellipse fill=\"#444443\" stroke=\"#444443\" stroke-width=\".5\" cx=\"111.0569\" cy=\"-24.3691\" rx=\"1.6\" ry=\"1.6\"/>\n",
       "<polygon fill=\"#444443\" stroke=\"#444443\" stroke-width=\".5\" points=\"144.5499,-33.7469 148.765,-33.3073 145.1958,-31.0224 144.5499,-33.7469\"/>\n",
       "</g>\n",
       "<!-- node4513481336 -->\n",
       "<g id=\"node4\" class=\"node\">\n",
       "<title>node4513481336</title>\n",
       "<polygon fill=\"#fefecd\" stroke=\"#444443\" stroke-width=\".5\" points=\"430,-63.5 377,-63.5 377,-16.5 430,-16.5 430,-63.5\"/>\n",
       "<polygon fill=\"#fefecd\" stroke=\"transparent\" points=\"379.5,-48 379.5,-61 428.5,-61 428.5,-48 379.5,-48\"/>\n",
       "<polyline fill=\"none\" stroke=\"#444443\" points=\"379.5,-48 428.5,-48 \"/>\n",
       "<text text-anchor=\"start\" x=\"380.48\" y=\"-51.2\" font-family=\"Times,serif\" font-style=\"italic\" font-size=\"11.00\" fill=\"#444443\">StackNode</text>\n",
       "<polygon fill=\"#fefecd\" stroke=\"transparent\" points=\"379.5,-46 379.5,-48 428.5,-48 428.5,-46 379.5,-46\"/>\n",
       "<polygon fill=\"#fefecd\" stroke=\"transparent\" points=\"379.5,-33 379.5,-46 408.5,-46 408.5,-33 379.5,-33\"/>\n",
       "<polyline fill=\"none\" stroke=\"#444443\" points=\"408.5,-33 408.5,-46 \"/>\n",
       "<text text-anchor=\"start\" x=\"383.0347\" y=\"-36.2\" font-family=\"Helvetica,sans-Serif\" font-size=\"11.00\" fill=\"#444443\">data </text>\n",
       "<polygon fill=\"#fefecd\" stroke=\"transparent\" points=\"409.5,-33 409.5,-46 428.5,-46 428.5,-33 409.5,-33\"/>\n",
       "<text text-anchor=\"start\" x=\"410.5\" y=\"-36.2\" font-family=\"Helvetica,sans-Serif\" font-size=\"11.00\" fill=\"#444443\"> 20</text>\n",
       "<polygon fill=\"#fefecd\" stroke=\"transparent\" points=\"379.5,-31 379.5,-33 428.5,-33 428.5,-31 379.5,-31\"/>\n",
       "<polygon fill=\"#fefecd\" stroke=\"transparent\" points=\"379.5,-18 379.5,-31 408.5,-31 408.5,-18 379.5,-18\"/>\n",
       "<polyline fill=\"none\" stroke=\"#444443\" points=\"408.5,-18 408.5,-31 \"/>\n",
       "<text text-anchor=\"start\" x=\"383.6523\" y=\"-21.2\" font-family=\"Helvetica,sans-Serif\" font-size=\"11.00\" fill=\"#444443\">next </text>\n",
       "<polygon fill=\"#fefecd\" stroke=\"transparent\" points=\"409.5,-18 409.5,-31 428.5,-31 428.5,-18 409.5,-18\"/>\n",
       "<text text-anchor=\"start\" x=\"410.5\" y=\"-21.2\" font-family=\"Helvetica,sans-Serif\" font-size=\"11.00\" fill=\"#444443\"> &#160;&#160;&#160;</text>\n",
       "</g>\n",
       "<!-- node4513481336&#45;&gt;node4513481224 -->\n",
       "<g id=\"edge6\" class=\"edge\">\n",
       "<title>node4513481336:c&#45;&gt;node4513481224</title>\n",
       "<path fill=\"none\" stroke=\"#444443\" stroke-width=\".5\" d=\"M422.693,-24.8659C427.6188,-26.2017 437.568,-28.8998 447.7198,-31.6528\"/>\n",
       "<ellipse fill=\"#444443\" stroke=\"#444443\" stroke-width=\".5\" cx=\"421.0442\" cy=\"-24.4188\" rx=\"1.6\" ry=\"1.6\"/>\n",
       "<polygon fill=\"#444443\" stroke=\"#444443\" stroke-width=\".5\" points=\"447.535,-33.0532 451.762,-32.749 448.2679,-30.3508 447.535,-33.0532\"/>\n",
       "</g>\n",
       "<!-- node4513481616&#45;&gt;node4513481336 -->\n",
       "<g id=\"edge5\" class=\"edge\">\n",
       "<title>node4513481616:c&#45;&gt;node4513481336</title>\n",
       "<path fill=\"none\" stroke=\"#444443\" stroke-width=\".5\" d=\"M347.693,-24.8659C352.6188,-26.2017 362.568,-28.8998 372.7198,-31.6528\"/>\n",
       "<ellipse fill=\"#444443\" stroke=\"#444443\" stroke-width=\".5\" cx=\"346.0442\" cy=\"-24.4188\" rx=\"1.6\" ry=\"1.6\"/>\n",
       "<polygon fill=\"#444443\" stroke=\"#444443\" stroke-width=\".5\" points=\"372.535,-33.0532 376.762,-32.749 373.2679,-30.3508 372.535,-33.0532\"/>\n",
       "</g>\n",
       "<!-- node4513481672&#45;&gt;node4513481728 -->\n",
       "<g id=\"edge3\" class=\"edge\">\n",
       "<title>node4513481672:c&#45;&gt;node4513481728</title>\n",
       "<path fill=\"none\" stroke=\"#444443\" stroke-width=\".5\" d=\"M193.3246,-24.8377C198.9943,-26.2663 211.0746,-29.3101 222.9343,-32.2984\"/>\n",
       "<ellipse fill=\"#444443\" stroke=\"#444443\" stroke-width=\".5\" cx=\"191.5515\" cy=\"-24.391\" rx=\"1.6\" ry=\"1.6\"/>\n",
       "<polygon fill=\"#444443\" stroke=\"#444443\" stroke-width=\".5\" points=\"222.7174,-33.6874 226.9382,-33.3073 223.4015,-30.9723 222.7174,-33.6874\"/>\n",
       "</g>\n",
       "<!-- node4513481280 -->\n",
       "<g id=\"node7\" class=\"node\">\n",
       "<title>node4513481280</title>\n",
       "<polygon fill=\"#fefecd\" stroke=\"#444443\" stroke-width=\".5\" points=\"42,-64 0,-64 0,-32 42,-32 42,-64\"/>\n",
       "<polygon fill=\"#fefecd\" stroke=\"transparent\" points=\"2,-49 2,-62 40,-62 40,-49 2,-49\"/>\n",
       "<polyline fill=\"none\" stroke=\"#444443\" points=\"2,-49 40,-49 \"/>\n",
       "<text text-anchor=\"start\" x=\"9.0896\" y=\"-52.2\" font-family=\"Times,serif\" font-style=\"italic\" font-size=\"11.00\" fill=\"#444443\">Stack</text>\n",
       "<polygon fill=\"#fefecd\" stroke=\"transparent\" points=\"2,-47 2,-49 40,-49 40,-47 2,-47\"/>\n",
       "<polygon fill=\"#fefecd\" stroke=\"transparent\" points=\"2,-34 2,-47 26,-47 26,-34 2,-34\"/>\n",
       "<polyline fill=\"none\" stroke=\"#444443\" points=\"26,-34 26,-47 \"/>\n",
       "<text text-anchor=\"start\" x=\"2.9946\" y=\"-37.2\" font-family=\"Helvetica,sans-Serif\" font-size=\"11.00\" fill=\"#444443\">root </text>\n",
       "<polygon fill=\"#fefecd\" stroke=\"transparent\" points=\"26,-34 26,-47 40,-47 40,-34 26,-34\"/>\n",
       "<text text-anchor=\"start\" x=\"26.8877\" y=\"-37.2\" font-family=\"Helvetica,sans-Serif\" font-size=\"11.00\" fill=\"#444443\"> &#160;&#160;&#160;</text>\n",
       "</g>\n",
       "<!-- node4513481280&#45;&gt;node4513481784 -->\n",
       "<g id=\"edge1\" class=\"edge\">\n",
       "<title>node4513481280:c&#45;&gt;node4513481784</title>\n",
       "<path fill=\"none\" stroke=\"#444443\" stroke-width=\".5\" d=\"M36.3106,-40C40.9929,-40 50.0613,-40 59.7195,-40\"/>\n",
       "<ellipse fill=\"#444443\" stroke=\"#444443\" stroke-width=\".5\" cx=\"34.6\" cy=\"-40\" rx=\"1.6\" ry=\"1.6\"/>\n",
       "<polygon fill=\"#444443\" stroke=\"#444443\" stroke-width=\".5\" points=\"59.8838,-41.4001 63.8838,-40 59.8838,-38.6001 59.8838,-41.4001\"/>\n",
       "</g>\n",
       "</g>\n",
       "</svg>\n"
      ],
      "text/plain": [
       "<graphviz.files.Source at 0x10d0640f0>"
      ]
     },
     "execution_count": 33,
     "metadata": {},
     "output_type": "execute_result"
    }
   ],
   "source": [
    "objviz(root)"
   ]
  },
  {
   "cell_type": "code",
   "execution_count": 34,
   "metadata": {},
   "outputs": [
    {
     "data": {
      "text/plain": [
       "'good'"
      ]
     },
     "execution_count": 34,
     "metadata": {},
     "output_type": "execute_result"
    }
   ],
   "source": [
    "root.pop()"
   ]
  },
  {
   "cell_type": "code",
   "execution_count": 35,
   "metadata": {},
   "outputs": [
    {
     "data": {
      "text/plain": [
       "'bye'"
      ]
     },
     "execution_count": 35,
     "metadata": {},
     "output_type": "execute_result"
    }
   ],
   "source": [
    "root.peek()"
   ]
  },
  {
   "cell_type": "code",
   "execution_count": 36,
   "metadata": {},
   "outputs": [
    {
     "data": {
      "image/svg+xml": [
       "<?xml version=\"1.0\" encoding=\"UTF-8\" standalone=\"no\"?>\n",
       "<!DOCTYPE svg PUBLIC \"-//W3C//DTD SVG 1.1//EN\"\n",
       " \"http://www.w3.org/Graphics/SVG/1.1/DTD/svg11.dtd\">\n",
       "<!-- Generated by graphviz version 2.40.1 (20161225.0304)\n",
       " -->\n",
       "<!-- Title: G Pages: 1 -->\n",
       "<svg width=\"444pt\" height=\"88pt\"\n",
       " viewBox=\"0.00 0.00 444.00 88.00\" xmlns=\"http://www.w3.org/2000/svg\" xmlns:xlink=\"http://www.w3.org/1999/xlink\">\n",
       "<g id=\"graph0\" class=\"graph\" transform=\"scale(1 1) rotate(0) translate(4 84)\">\n",
       "<title>G</title>\n",
       "<polygon fill=\"#ffffff\" stroke=\"transparent\" points=\"-4,4 -4,-84 440,-84 440,4 -4,4\"/>\n",
       "<g id=\"clust1\" class=\"cluster\">\n",
       "<title>cluster1</title>\n",
       "</g>\n",
       "<!-- node4513481728 -->\n",
       "<g id=\"node1\" class=\"node\">\n",
       "<title>node4513481728</title>\n",
       "<polygon fill=\"#fefecd\" stroke=\"#444443\" stroke-width=\".5\" points=\"195,-63.5 142,-63.5 142,-16.5 195,-16.5 195,-63.5\"/>\n",
       "<polygon fill=\"#fefecd\" stroke=\"transparent\" points=\"144.5,-48 144.5,-61 193.5,-61 193.5,-48 144.5,-48\"/>\n",
       "<polyline fill=\"none\" stroke=\"#444443\" points=\"144.5,-48 193.5,-48 \"/>\n",
       "<text text-anchor=\"start\" x=\"145.48\" y=\"-51.2\" font-family=\"Times,serif\" font-style=\"italic\" font-size=\"11.00\" fill=\"#444443\">StackNode</text>\n",
       "<polygon fill=\"#fefecd\" stroke=\"transparent\" points=\"144.5,-46 144.5,-48 193.5,-48 193.5,-46 144.5,-46\"/>\n",
       "<polygon fill=\"#fefecd\" stroke=\"transparent\" points=\"144.5,-33 144.5,-46 173.5,-46 173.5,-33 144.5,-33\"/>\n",
       "<polyline fill=\"none\" stroke=\"#444443\" points=\"173.5,-33 173.5,-46 \"/>\n",
       "<text text-anchor=\"start\" x=\"148.0347\" y=\"-36.2\" font-family=\"Helvetica,sans-Serif\" font-size=\"11.00\" fill=\"#444443\">data </text>\n",
       "<polygon fill=\"#fefecd\" stroke=\"transparent\" points=\"174.5,-33 174.5,-46 193.5,-46 193.5,-33 174.5,-33\"/>\n",
       "<text text-anchor=\"start\" x=\"175.5\" y=\"-36.2\" font-family=\"Helvetica,sans-Serif\" font-size=\"11.00\" fill=\"#444443\"> &#39;hi&#39;</text>\n",
       "<polygon fill=\"#fefecd\" stroke=\"transparent\" points=\"144.5,-31 144.5,-33 193.5,-33 193.5,-31 144.5,-31\"/>\n",
       "<polygon fill=\"#fefecd\" stroke=\"transparent\" points=\"144.5,-18 144.5,-31 173.5,-31 173.5,-18 144.5,-18\"/>\n",
       "<polyline fill=\"none\" stroke=\"#444443\" points=\"173.5,-18 173.5,-31 \"/>\n",
       "<text text-anchor=\"start\" x=\"148.6523\" y=\"-21.2\" font-family=\"Helvetica,sans-Serif\" font-size=\"11.00\" fill=\"#444443\">next </text>\n",
       "<polygon fill=\"#fefecd\" stroke=\"transparent\" points=\"174.5,-18 174.5,-31 193.5,-31 193.5,-18 174.5,-18\"/>\n",
       "<text text-anchor=\"start\" x=\"175.5\" y=\"-21.2\" font-family=\"Helvetica,sans-Serif\" font-size=\"11.00\" fill=\"#444443\"> &#160;&#160;&#160;</text>\n",
       "</g>\n",
       "<!-- node4513481616 -->\n",
       "<g id=\"node4\" class=\"node\">\n",
       "<title>node4513481616</title>\n",
       "<polygon fill=\"#fefecd\" stroke=\"#444443\" stroke-width=\".5\" points=\"270,-63.5 217,-63.5 217,-16.5 270,-16.5 270,-63.5\"/>\n",
       "<polygon fill=\"#fefecd\" stroke=\"transparent\" points=\"219.5,-48 219.5,-61 268.5,-61 268.5,-48 219.5,-48\"/>\n",
       "<polyline fill=\"none\" stroke=\"#444443\" points=\"219.5,-48 268.5,-48 \"/>\n",
       "<text text-anchor=\"start\" x=\"220.48\" y=\"-51.2\" font-family=\"Times,serif\" font-style=\"italic\" font-size=\"11.00\" fill=\"#444443\">StackNode</text>\n",
       "<polygon fill=\"#fefecd\" stroke=\"transparent\" points=\"219.5,-46 219.5,-48 268.5,-48 268.5,-46 219.5,-46\"/>\n",
       "<polygon fill=\"#fefecd\" stroke=\"transparent\" points=\"219.5,-33 219.5,-46 248.5,-46 248.5,-33 219.5,-33\"/>\n",
       "<polyline fill=\"none\" stroke=\"#444443\" points=\"248.5,-33 248.5,-46 \"/>\n",
       "<text text-anchor=\"start\" x=\"223.0347\" y=\"-36.2\" font-family=\"Helvetica,sans-Serif\" font-size=\"11.00\" fill=\"#444443\">data </text>\n",
       "<polygon fill=\"#fefecd\" stroke=\"transparent\" points=\"249.5,-33 249.5,-46 268.5,-46 268.5,-33 249.5,-33\"/>\n",
       "<text text-anchor=\"start\" x=\"250.5\" y=\"-36.2\" font-family=\"Helvetica,sans-Serif\" font-size=\"11.00\" fill=\"#444443\"> 30</text>\n",
       "<polygon fill=\"#fefecd\" stroke=\"transparent\" points=\"219.5,-31 219.5,-33 268.5,-33 268.5,-31 219.5,-31\"/>\n",
       "<polygon fill=\"#fefecd\" stroke=\"transparent\" points=\"219.5,-18 219.5,-31 248.5,-31 248.5,-18 219.5,-18\"/>\n",
       "<polyline fill=\"none\" stroke=\"#444443\" points=\"248.5,-18 248.5,-31 \"/>\n",
       "<text text-anchor=\"start\" x=\"223.6523\" y=\"-21.2\" font-family=\"Helvetica,sans-Serif\" font-size=\"11.00\" fill=\"#444443\">next </text>\n",
       "<polygon fill=\"#fefecd\" stroke=\"transparent\" points=\"249.5,-18 249.5,-31 268.5,-31 268.5,-18 249.5,-18\"/>\n",
       "<text text-anchor=\"start\" x=\"250.5\" y=\"-21.2\" font-family=\"Helvetica,sans-Serif\" font-size=\"11.00\" fill=\"#444443\"> &#160;&#160;&#160;</text>\n",
       "</g>\n",
       "<!-- node4513481728&#45;&gt;node4513481616 -->\n",
       "<g id=\"edge3\" class=\"edge\">\n",
       "<title>node4513481728:c&#45;&gt;node4513481616</title>\n",
       "<path fill=\"none\" stroke=\"#444443\" stroke-width=\".5\" d=\"M187.693,-24.8659C192.6188,-26.2017 202.568,-28.8998 212.7198,-31.6528\"/>\n",
       "<ellipse fill=\"#444443\" stroke=\"#444443\" stroke-width=\".5\" cx=\"186.0442\" cy=\"-24.4188\" rx=\"1.6\" ry=\"1.6\"/>\n",
       "<polygon fill=\"#444443\" stroke=\"#444443\" stroke-width=\".5\" points=\"212.535,-33.0532 216.762,-32.749 213.2679,-30.3508 212.535,-33.0532\"/>\n",
       "</g>\n",
       "<!-- node4513481224 -->\n",
       "<g id=\"node2\" class=\"node\">\n",
       "<title>node4513481224</title>\n",
       "<polygon fill=\"#fefecd\" stroke=\"#444443\" stroke-width=\".5\" points=\"420,-63.5 367,-63.5 367,-16.5 420,-16.5 420,-63.5\"/>\n",
       "<polygon fill=\"#fefecd\" stroke=\"transparent\" points=\"369.5,-48 369.5,-61 418.5,-61 418.5,-48 369.5,-48\"/>\n",
       "<polyline fill=\"none\" stroke=\"#444443\" points=\"369.5,-48 418.5,-48 \"/>\n",
       "<text text-anchor=\"start\" x=\"370.48\" y=\"-51.2\" font-family=\"Times,serif\" font-style=\"italic\" font-size=\"11.00\" fill=\"#444443\">StackNode</text>\n",
       "<polygon fill=\"#fefecd\" stroke=\"transparent\" points=\"369.5,-46 369.5,-48 418.5,-48 418.5,-46 369.5,-46\"/>\n",
       "<polygon fill=\"#fefecd\" stroke=\"transparent\" points=\"369.5,-33 369.5,-46 398.5,-46 398.5,-33 369.5,-33\"/>\n",
       "<polyline fill=\"none\" stroke=\"#444443\" points=\"398.5,-33 398.5,-46 \"/>\n",
       "<text text-anchor=\"start\" x=\"373.0347\" y=\"-36.2\" font-family=\"Helvetica,sans-Serif\" font-size=\"11.00\" fill=\"#444443\">data </text>\n",
       "<polygon fill=\"#fefecd\" stroke=\"transparent\" points=\"399.5,-33 399.5,-46 418.5,-46 418.5,-33 399.5,-33\"/>\n",
       "<text text-anchor=\"start\" x=\"400.5\" y=\"-36.2\" font-family=\"Helvetica,sans-Serif\" font-size=\"11.00\" fill=\"#444443\"> 10</text>\n",
       "<polygon fill=\"#fefecd\" stroke=\"transparent\" points=\"369.5,-31 369.5,-33 418.5,-33 418.5,-31 369.5,-31\"/>\n",
       "<polygon fill=\"#fefecd\" stroke=\"transparent\" points=\"369.5,-18 369.5,-31 398.5,-31 398.5,-18 369.5,-18\"/>\n",
       "<polyline fill=\"none\" stroke=\"#444443\" points=\"398.5,-18 398.5,-31 \"/>\n",
       "<text text-anchor=\"start\" x=\"373.6523\" y=\"-21.2\" font-family=\"Helvetica,sans-Serif\" font-size=\"11.00\" fill=\"#444443\">next </text>\n",
       "<polygon fill=\"#fefecd\" stroke=\"transparent\" points=\"399.5,-18 399.5,-31 418.5,-31 418.5,-18 399.5,-18\"/>\n",
       "<text text-anchor=\"start\" x=\"400.5\" y=\"-21.2\" font-family=\"Helvetica,sans-Serif\" font-size=\"11.00\" fill=\"#444443\"> &#160;&#160;&#160;</text>\n",
       "</g>\n",
       "<!-- node4513481336 -->\n",
       "<g id=\"node3\" class=\"node\">\n",
       "<title>node4513481336</title>\n",
       "<polygon fill=\"#fefecd\" stroke=\"#444443\" stroke-width=\".5\" points=\"345,-63.5 292,-63.5 292,-16.5 345,-16.5 345,-63.5\"/>\n",
       "<polygon fill=\"#fefecd\" stroke=\"transparent\" points=\"294.5,-48 294.5,-61 343.5,-61 343.5,-48 294.5,-48\"/>\n",
       "<polyline fill=\"none\" stroke=\"#444443\" points=\"294.5,-48 343.5,-48 \"/>\n",
       "<text text-anchor=\"start\" x=\"295.48\" y=\"-51.2\" font-family=\"Times,serif\" font-style=\"italic\" font-size=\"11.00\" fill=\"#444443\">StackNode</text>\n",
       "<polygon fill=\"#fefecd\" stroke=\"transparent\" points=\"294.5,-46 294.5,-48 343.5,-48 343.5,-46 294.5,-46\"/>\n",
       "<polygon fill=\"#fefecd\" stroke=\"transparent\" points=\"294.5,-33 294.5,-46 323.5,-46 323.5,-33 294.5,-33\"/>\n",
       "<polyline fill=\"none\" stroke=\"#444443\" points=\"323.5,-33 323.5,-46 \"/>\n",
       "<text text-anchor=\"start\" x=\"298.0347\" y=\"-36.2\" font-family=\"Helvetica,sans-Serif\" font-size=\"11.00\" fill=\"#444443\">data </text>\n",
       "<polygon fill=\"#fefecd\" stroke=\"transparent\" points=\"324.5,-33 324.5,-46 343.5,-46 343.5,-33 324.5,-33\"/>\n",
       "<text text-anchor=\"start\" x=\"325.5\" y=\"-36.2\" font-family=\"Helvetica,sans-Serif\" font-size=\"11.00\" fill=\"#444443\"> 20</text>\n",
       "<polygon fill=\"#fefecd\" stroke=\"transparent\" points=\"294.5,-31 294.5,-33 343.5,-33 343.5,-31 294.5,-31\"/>\n",
       "<polygon fill=\"#fefecd\" stroke=\"transparent\" points=\"294.5,-18 294.5,-31 323.5,-31 323.5,-18 294.5,-18\"/>\n",
       "<polyline fill=\"none\" stroke=\"#444443\" points=\"323.5,-18 323.5,-31 \"/>\n",
       "<text text-anchor=\"start\" x=\"298.6523\" y=\"-21.2\" font-family=\"Helvetica,sans-Serif\" font-size=\"11.00\" fill=\"#444443\">next </text>\n",
       "<polygon fill=\"#fefecd\" stroke=\"transparent\" points=\"324.5,-18 324.5,-31 343.5,-31 343.5,-18 324.5,-18\"/>\n",
       "<text text-anchor=\"start\" x=\"325.5\" y=\"-21.2\" font-family=\"Helvetica,sans-Serif\" font-size=\"11.00\" fill=\"#444443\"> &#160;&#160;&#160;</text>\n",
       "</g>\n",
       "<!-- node4513481336&#45;&gt;node4513481224 -->\n",
       "<g id=\"edge5\" class=\"edge\">\n",
       "<title>node4513481336:c&#45;&gt;node4513481224</title>\n",
       "<path fill=\"none\" stroke=\"#444443\" stroke-width=\".5\" d=\"M337.693,-24.8659C342.6188,-26.2017 352.568,-28.8998 362.7198,-31.6528\"/>\n",
       "<ellipse fill=\"#444443\" stroke=\"#444443\" stroke-width=\".5\" cx=\"336.0442\" cy=\"-24.4188\" rx=\"1.6\" ry=\"1.6\"/>\n",
       "<polygon fill=\"#444443\" stroke=\"#444443\" stroke-width=\".5\" points=\"362.535,-33.0532 366.762,-32.749 363.2679,-30.3508 362.535,-33.0532\"/>\n",
       "</g>\n",
       "<!-- node4513481616&#45;&gt;node4513481336 -->\n",
       "<g id=\"edge4\" class=\"edge\">\n",
       "<title>node4513481616:c&#45;&gt;node4513481336</title>\n",
       "<path fill=\"none\" stroke=\"#444443\" stroke-width=\".5\" d=\"M262.693,-24.8659C267.6188,-26.2017 277.568,-28.8998 287.7198,-31.6528\"/>\n",
       "<ellipse fill=\"#444443\" stroke=\"#444443\" stroke-width=\".5\" cx=\"261.0442\" cy=\"-24.4188\" rx=\"1.6\" ry=\"1.6\"/>\n",
       "<polygon fill=\"#444443\" stroke=\"#444443\" stroke-width=\".5\" points=\"287.535,-33.0532 291.762,-32.749 288.2679,-30.3508 287.535,-33.0532\"/>\n",
       "</g>\n",
       "<!-- node4513481672 -->\n",
       "<g id=\"node5\" class=\"node\">\n",
       "<title>node4513481672</title>\n",
       "<polygon fill=\"#fefecd\" stroke=\"#444443\" stroke-width=\".5\" points=\"120,-63.5 64,-63.5 64,-16.5 120,-16.5 120,-63.5\"/>\n",
       "<polygon fill=\"#fefecd\" stroke=\"transparent\" points=\"66,-48 66,-61 118,-61 118,-48 66,-48\"/>\n",
       "<polyline fill=\"none\" stroke=\"#444443\" points=\"66,-48 118,-48 \"/>\n",
       "<text text-anchor=\"start\" x=\"68.48\" y=\"-51.2\" font-family=\"Times,serif\" font-style=\"italic\" font-size=\"11.00\" fill=\"#444443\">StackNode</text>\n",
       "<polygon fill=\"#fefecd\" stroke=\"transparent\" points=\"66,-46 66,-48 118,-48 118,-46 66,-46\"/>\n",
       "<polygon fill=\"#fefecd\" stroke=\"transparent\" points=\"66,-33 66,-46 92,-46 92,-33 66,-33\"/>\n",
       "<polyline fill=\"none\" stroke=\"#444443\" points=\"92,-33 92,-46 \"/>\n",
       "<text text-anchor=\"start\" x=\"66.7673\" y=\"-36.2\" font-family=\"Helvetica,sans-Serif\" font-size=\"11.00\" fill=\"#444443\">data </text>\n",
       "<polygon fill=\"#fefecd\" stroke=\"transparent\" points=\"92,-33 92,-46 118,-46 118,-33 92,-33\"/>\n",
       "<text text-anchor=\"start\" x=\"92.5042\" y=\"-36.2\" font-family=\"Helvetica,sans-Serif\" font-size=\"11.00\" fill=\"#444443\"> &#39;bye&#39;</text>\n",
       "<polygon fill=\"#fefecd\" stroke=\"transparent\" points=\"66,-31 66,-33 118,-33 118,-31 66,-31\"/>\n",
       "<polygon fill=\"#fefecd\" stroke=\"transparent\" points=\"66,-18 66,-31 92,-31 92,-18 66,-18\"/>\n",
       "<polyline fill=\"none\" stroke=\"#444443\" points=\"92,-18 92,-31 \"/>\n",
       "<text text-anchor=\"start\" x=\"67.1523\" y=\"-21.2\" font-family=\"Helvetica,sans-Serif\" font-size=\"11.00\" fill=\"#444443\">next </text>\n",
       "<polygon fill=\"#fefecd\" stroke=\"transparent\" points=\"92,-18 92,-31 118,-31 118,-18 92,-18\"/>\n",
       "<text text-anchor=\"start\" x=\"93\" y=\"-21.2\" font-family=\"Helvetica,sans-Serif\" font-size=\"11.00\" fill=\"#444443\"> &#160;&#160;&#160;</text>\n",
       "</g>\n",
       "<!-- node4513481672&#45;&gt;node4513481728 -->\n",
       "<g id=\"edge2\" class=\"edge\">\n",
       "<title>node4513481672:c&#45;&gt;node4513481728</title>\n",
       "<path fill=\"none\" stroke=\"#444443\" stroke-width=\".5\" d=\"M108.3246,-24.8377C113.9943,-26.2663 126.0746,-29.3101 137.9343,-32.2984\"/>\n",
       "<ellipse fill=\"#444443\" stroke=\"#444443\" stroke-width=\".5\" cx=\"106.5515\" cy=\"-24.391\" rx=\"1.6\" ry=\"1.6\"/>\n",
       "<polygon fill=\"#444443\" stroke=\"#444443\" stroke-width=\".5\" points=\"137.7174,-33.6874 141.9382,-33.3073 138.4015,-30.9723 137.7174,-33.6874\"/>\n",
       "</g>\n",
       "<!-- node4513481280 -->\n",
       "<g id=\"node6\" class=\"node\">\n",
       "<title>node4513481280</title>\n",
       "<polygon fill=\"#fefecd\" stroke=\"#444443\" stroke-width=\".5\" points=\"42,-64 0,-64 0,-32 42,-32 42,-64\"/>\n",
       "<polygon fill=\"#fefecd\" stroke=\"transparent\" points=\"2,-49 2,-62 40,-62 40,-49 2,-49\"/>\n",
       "<polyline fill=\"none\" stroke=\"#444443\" points=\"2,-49 40,-49 \"/>\n",
       "<text text-anchor=\"start\" x=\"9.0896\" y=\"-52.2\" font-family=\"Times,serif\" font-style=\"italic\" font-size=\"11.00\" fill=\"#444443\">Stack</text>\n",
       "<polygon fill=\"#fefecd\" stroke=\"transparent\" points=\"2,-47 2,-49 40,-49 40,-47 2,-47\"/>\n",
       "<polygon fill=\"#fefecd\" stroke=\"transparent\" points=\"2,-34 2,-47 26,-47 26,-34 2,-34\"/>\n",
       "<polyline fill=\"none\" stroke=\"#444443\" points=\"26,-34 26,-47 \"/>\n",
       "<text text-anchor=\"start\" x=\"2.9946\" y=\"-37.2\" font-family=\"Helvetica,sans-Serif\" font-size=\"11.00\" fill=\"#444443\">root </text>\n",
       "<polygon fill=\"#fefecd\" stroke=\"transparent\" points=\"26,-34 26,-47 40,-47 40,-34 26,-34\"/>\n",
       "<text text-anchor=\"start\" x=\"26.8877\" y=\"-37.2\" font-family=\"Helvetica,sans-Serif\" font-size=\"11.00\" fill=\"#444443\"> &#160;&#160;&#160;</text>\n",
       "</g>\n",
       "<!-- node4513481280&#45;&gt;node4513481672 -->\n",
       "<g id=\"edge1\" class=\"edge\">\n",
       "<title>node4513481280:c&#45;&gt;node4513481672</title>\n",
       "<path fill=\"none\" stroke=\"#444443\" stroke-width=\".5\" d=\"M36.3625,-40C41.107,-40 50.2562,-40 59.7864,-40\"/>\n",
       "<ellipse fill=\"#444443\" stroke=\"#444443\" stroke-width=\".5\" cx=\"34.6\" cy=\"-40\" rx=\"1.6\" ry=\"1.6\"/>\n",
       "<polygon fill=\"#444443\" stroke=\"#444443\" stroke-width=\".5\" points=\"59.8824,-41.4001 63.8824,-40 59.8823,-38.6001 59.8824,-41.4001\"/>\n",
       "</g>\n",
       "</g>\n",
       "</svg>\n"
      ],
      "text/plain": [
       "<graphviz.files.Source at 0x10d064d30>"
      ]
     },
     "execution_count": 36,
     "metadata": {},
     "output_type": "execute_result"
    }
   ],
   "source": [
    "objviz(root)"
   ]
  },
  {
   "cell_type": "code",
   "execution_count": 37,
   "metadata": {},
   "outputs": [
    {
     "data": {
      "text/plain": [
       "False"
      ]
     },
     "execution_count": 37,
     "metadata": {},
     "output_type": "execute_result"
    }
   ],
   "source": [
    "root.is_empty()"
   ]
  },
  {
   "cell_type": "code",
   "execution_count": null,
   "metadata": {},
   "outputs": [],
   "source": []
  }
 ],
 "metadata": {
  "kernelspec": {
   "display_name": "Python 3",
   "language": "python",
   "name": "python3"
  },
  "language_info": {
   "codemirror_mode": {
    "name": "ipython",
    "version": 3
   },
   "file_extension": ".py",
   "mimetype": "text/x-python",
   "name": "python",
   "nbconvert_exporter": "python",
   "pygments_lexer": "ipython3",
   "version": "3.6.8"
  }
 },
 "nbformat": 4,
 "nbformat_minor": 2
}
