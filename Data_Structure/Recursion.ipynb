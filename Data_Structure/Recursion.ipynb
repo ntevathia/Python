{
 "cells": [
  {
   "cell_type": "markdown",
   "metadata": {},
   "source": [
    "### What is recursion?\n",
    "\n",
    "Recursion refers to the process of a function calling itself one or more times.\n",
    "In other words, recursion break down the problem into simple problems which are trivial enough to solve."
   ]
  },
  {
   "cell_type": "markdown",
   "metadata": {},
   "source": [
    "Let's see an example to understand more about recursion."
   ]
  },
  {
   "cell_type": "code",
   "execution_count": 1,
   "metadata": {},
   "outputs": [],
   "source": [
    "def recursive_sum(num_list):\n",
    "    # stoping condition\n",
    "    if len(num_list) == 1:\n",
    "        return num_list[0]\n",
    "    else:\n",
    "        # recursive call\n",
    "        return num_list[0] + recursive_sum(num_list[1:])\n",
    "    "
   ]
  },
  {
   "cell_type": "code",
   "execution_count": 2,
   "metadata": {},
   "outputs": [
    {
     "data": {
      "text/plain": [
       "15"
      ]
     },
     "execution_count": 2,
     "metadata": {},
     "output_type": "execute_result"
    }
   ],
   "source": [
    "sum_value = recursive_sum([1,2,3,4,5])\n",
    "sum_value"
   ]
  },
  {
   "cell_type": "markdown",
   "metadata": {},
   "source": [
    "Function recursive_sum() is trying to solve the problem of finding the sum of all the elements in a list using recursion. Here, we are passing a list of 5 elements to the function whcih in turn calls itself until the stopping condition which, in this case, is when only one element is left in the list and we can sum that anymore."
   ]
  },
  {
   "cell_type": "markdown",
   "metadata": {},
   "source": [
    "- first call:<br>\n",
    "    input   -> [1,2,3,4,5]<br>\n",
    "    return  -> 1 + [2,3,4,5] : causes second call<br>\n",
    "- second call:<br>\n",
    "    input   -> [2,3,4,5]<br>\n",
    "    return  -> 2 + [3,4,5] : causes third call<br>\n",
    "- third call:<br>\n",
    "    input   -> [3,4,5]<br>\n",
    "    return  -> 3 + [4,5] : causes fourth call<br>\n",
    "- fourth call:<br>\n",
    "    input   -> [4,5]<br>\n",
    "    return  -> 4 + [5] : causes fifth call<br>\n",
    "- fifth call:<br>\n",
    "    input  -> [5] : this time stopping condition is met<br>\n",
    "    return -> 5<br>"
   ]
  },
  {
   "cell_type": "markdown",
   "metadata": {},
   "source": [
    "- fifth call returns 5 to fourth call:\n",
    "return -> 4 + 5 = 9\n",
    "- fourth call return 9 to third call:\n",
    "return -> 3 + 9 = 12\n",
    "- third call return 12 to second call:\n",
    "return -> 2 + 12 = 14\n",
    "- second call return 14 to first call:\n",
    "return -> 1 + 14 = 15\n",
    "\n",
    "Answer : 15\n"
   ]
  },
  {
   "cell_type": "markdown",
   "metadata": {},
   "source": [
    "\n",
    "Theory behind recursion to work properly:\n",
    "Every recursive function must obey 3 rules:\n",
    "- It must have a stopping case, also called base case sometimes.\n",
    "- It must change its state and move toward the stopping case.\n",
    "- It must call itself, recursively."
   ]
  },
  {
   "cell_type": "markdown",
   "metadata": {},
   "source": [
    "### Fibonacci series "
   ]
  },
  {
   "cell_type": "markdown",
   "metadata": {},
   "source": [
    "It's a series of numbers in which each number is the sum of the two preceding numbers and it starts with 0 and 1.\n",
    "\n",
    "We can obtain a fibonacci series with the help of recursion given the input number n so that it can return the first n elements from the series."
   ]
  },
  {
   "cell_type": "code",
   "execution_count": 4,
   "metadata": {},
   "outputs": [],
   "source": [
    "# this function gives the nth element from a fibonacci series\n",
    "def fib_number(n):\n",
    "    if n <= 1:\n",
    "        # base condition : returns 0 and 1 \n",
    "        return n\n",
    "    else:\n",
    "        # sum of n-1 element and n-2 element for nth element\n",
    "        return fib(n-1) + fib(n-2)\n"
   ]
  },
  {
   "cell_type": "code",
   "execution_count": 9,
   "metadata": {},
   "outputs": [
    {
     "name": "stdout",
     "output_type": "stream",
     "text": [
      "Enter the number :10\n",
      "10th element in fibonacci series is : 55\n"
     ]
    }
   ],
   "source": [
    "n = int(input(\"Enter the number :\"))\n",
    "print(f\"{n}th element in fibonacci series is : {fib(n)}\")"
   ]
  },
  {
   "cell_type": "code",
   "execution_count": 11,
   "metadata": {},
   "outputs": [
    {
     "name": "stdout",
     "output_type": "stream",
     "text": [
      "0\n",
      "1\n",
      "1\n",
      "2\n",
      "3\n",
      "5\n",
      "8\n",
      "13\n",
      "21\n",
      "34\n",
      "55\n"
     ]
    }
   ],
   "source": [
    "# Print all the fibonacci numbers till n number of elements\n",
    "\n",
    "for i in range(11):\n",
    "    print(fib(i))"
   ]
  },
  {
   "cell_type": "markdown",
   "metadata": {},
   "source": [
    "### Why recusrion?"
   ]
  },
  {
   "cell_type": "markdown",
   "metadata": {},
   "source": [
    "Recursion can always be replaced with iterative approach but in some cases recursion is better than iteration due to its\n",
    "- elegance\n",
    "- readability\n",
    "\n",
    "Tree traversal for entering a new value or searching a new value is always easier with recursion. Even the in-order, pre-order, post-order arithmatic calculations are much easily done with recursion.\n",
    "\n",
    "..."
   ]
  },
  {
   "cell_type": "markdown",
   "metadata": {},
   "source": [
    "### Binary tree "
   ]
  },
  {
   "cell_type": "code",
   "execution_count": 68,
   "metadata": {},
   "outputs": [],
   "source": [
    "class Node:\n",
    "\n",
    "    def __init__(self, value):    # constructor : initializes the node with a value\n",
    "        self.left = None\n",
    "        self.root = value\n",
    "        self.right = None\n",
    "\n",
    "        \n",
    "    def get_tree(self):           # use of recursion to print the tree values\n",
    "        if self.left:\n",
    "            self.left.get_tree()\n",
    "         \n",
    "        print(self.root)\n",
    "        \n",
    "        if self.right:\n",
    "            self.right.get_tree()\n",
    "            \n",
    "            \n",
    "    def insert_node(self, new_value):       # insert a new value to the tree\n",
    "        \n",
    "        new_node = Node(new_value)\n",
    "        # if new_value is less than parent go to left otherwise go to right\n",
    "        if new_value == self.root:\n",
    "            print(\"The value already exists in the tree\")\n",
    "        if new_value < self.root:\n",
    "            if self.left is None: \n",
    "                self.left = new_node\n",
    "                print(\"key inserted\")\n",
    "            else: \n",
    "                self.left.insert_node(new_value)\n",
    "        elif new_value > self.root:\n",
    "            if self.right is None: \n",
    "                self.right = new_node\n",
    "                print(\"key inserted\")\n",
    "            else: \n",
    "                self.right.insert_node(new_value)\n",
    "                \n",
    "    def search(self, key):\n",
    "        if key == self.root:\n",
    "            print(\"key found at root\")\n",
    "            flag = 1\n",
    "        elif key < self.root:\n",
    "            if self.left is None:\n",
    "                print(\"No key found!!\")\n",
    "                flag = 0\n",
    "            else: self.left.search(key)  # breaking here : fix it\n",
    "        elif key > self.root:\n",
    "            if self.right is None:\n",
    "                print(\"No key found!!\")\n",
    "                flag = 0\n",
    "            else: self.right.search(key)\n",
    "        \n",
    "        return flag"
   ]
  },
  {
   "cell_type": "code",
   "execution_count": 69,
   "metadata": {},
   "outputs": [
    {
     "name": "stdout",
     "output_type": "stream",
     "text": [
      "key inserted\n",
      "key inserted\n",
      "key inserted\n",
      "key inserted\n",
      "13\n",
      "40\n",
      "44\n",
      "50\n",
      "60\n"
     ]
    }
   ],
   "source": [
    "head = Node(50)\n",
    "head.insert_node(40)\n",
    "head.insert_node(60)\n",
    "head.insert_node(44)\n",
    "head.insert_node(13)\n",
    "head.get_tree()"
   ]
  },
  {
   "cell_type": "code",
   "execution_count": 70,
   "metadata": {},
   "outputs": [
    {
     "name": "stdout",
     "output_type": "stream",
     "text": [
      "Enter teh key to search in binary tree:44\n",
      "key found at root\n"
     ]
    },
    {
     "ename": "UnboundLocalError",
     "evalue": "local variable 'flag' referenced before assignment",
     "output_type": "error",
     "traceback": [
      "\u001b[0;31m---------------------------------------------------------------------------\u001b[0m",
      "\u001b[0;31mUnboundLocalError\u001b[0m                         Traceback (most recent call last)",
      "\u001b[0;32m<ipython-input-70-6d65e9333f77>\u001b[0m in \u001b[0;36m<module>\u001b[0;34m()\u001b[0m\n\u001b[1;32m      1\u001b[0m \u001b[0mval\u001b[0m \u001b[0;34m=\u001b[0m \u001b[0mint\u001b[0m\u001b[0;34m(\u001b[0m\u001b[0minput\u001b[0m\u001b[0;34m(\u001b[0m\u001b[0;34m\"Enter teh key to search in binary tree:\"\u001b[0m\u001b[0;34m)\u001b[0m\u001b[0;34m)\u001b[0m\u001b[0;34m\u001b[0m\u001b[0m\n\u001b[0;32m----> 2\u001b[0;31m \u001b[0minp\u001b[0m \u001b[0;34m=\u001b[0m \u001b[0mhead\u001b[0m\u001b[0;34m.\u001b[0m\u001b[0msearch\u001b[0m\u001b[0;34m(\u001b[0m\u001b[0mval\u001b[0m\u001b[0;34m)\u001b[0m\u001b[0;34m\u001b[0m\u001b[0m\n\u001b[0m\u001b[1;32m      3\u001b[0m \u001b[0mprint\u001b[0m\u001b[0;34m(\u001b[0m\u001b[0minp\u001b[0m\u001b[0;34m)\u001b[0m\u001b[0;34m\u001b[0m\u001b[0m\n\u001b[1;32m      4\u001b[0m \u001b[0;32mif\u001b[0m \u001b[0minp\u001b[0m \u001b[0;34m==\u001b[0m \u001b[0;32mFalse\u001b[0m\u001b[0;34m:\u001b[0m\u001b[0;34m\u001b[0m\u001b[0m\n\u001b[1;32m      5\u001b[0m     \u001b[0mprint\u001b[0m\u001b[0;34m(\u001b[0m\u001b[0;34mf\"inserting value {val}\"\u001b[0m\u001b[0;34m)\u001b[0m\u001b[0;34m\u001b[0m\u001b[0m\n",
      "\u001b[0;32m<ipython-input-68-95989145d237>\u001b[0m in \u001b[0;36msearch\u001b[0;34m(self, key)\u001b[0m\n\u001b[1;32m     44\u001b[0m                 \u001b[0mprint\u001b[0m\u001b[0;34m(\u001b[0m\u001b[0;34m\"No key found!!\"\u001b[0m\u001b[0;34m)\u001b[0m\u001b[0;34m\u001b[0m\u001b[0m\n\u001b[1;32m     45\u001b[0m                 \u001b[0mflag\u001b[0m \u001b[0;34m=\u001b[0m \u001b[0;36m0\u001b[0m\u001b[0;34m\u001b[0m\u001b[0m\n\u001b[0;32m---> 46\u001b[0;31m             \u001b[0;32melse\u001b[0m\u001b[0;34m:\u001b[0m \u001b[0mself\u001b[0m\u001b[0;34m.\u001b[0m\u001b[0mleft\u001b[0m\u001b[0;34m.\u001b[0m\u001b[0msearch\u001b[0m\u001b[0;34m(\u001b[0m\u001b[0mkey\u001b[0m\u001b[0;34m)\u001b[0m\u001b[0;34m\u001b[0m\u001b[0m\n\u001b[0m\u001b[1;32m     47\u001b[0m         \u001b[0;32melif\u001b[0m \u001b[0mkey\u001b[0m \u001b[0;34m>\u001b[0m \u001b[0mself\u001b[0m\u001b[0;34m.\u001b[0m\u001b[0mroot\u001b[0m\u001b[0;34m:\u001b[0m\u001b[0;34m\u001b[0m\u001b[0m\n\u001b[1;32m     48\u001b[0m             \u001b[0;32mif\u001b[0m \u001b[0mself\u001b[0m\u001b[0;34m.\u001b[0m\u001b[0mright\u001b[0m \u001b[0;32mis\u001b[0m \u001b[0;32mNone\u001b[0m\u001b[0;34m:\u001b[0m\u001b[0;34m\u001b[0m\u001b[0m\n",
      "\u001b[0;32m<ipython-input-68-95989145d237>\u001b[0m in \u001b[0;36msearch\u001b[0;34m(self, key)\u001b[0m\n\u001b[1;32m     51\u001b[0m             \u001b[0;32melse\u001b[0m\u001b[0;34m:\u001b[0m \u001b[0mself\u001b[0m\u001b[0;34m.\u001b[0m\u001b[0mright\u001b[0m\u001b[0;34m.\u001b[0m\u001b[0msearch\u001b[0m\u001b[0;34m(\u001b[0m\u001b[0mkey\u001b[0m\u001b[0;34m)\u001b[0m\u001b[0;34m\u001b[0m\u001b[0m\n\u001b[1;32m     52\u001b[0m \u001b[0;34m\u001b[0m\u001b[0m\n\u001b[0;32m---> 53\u001b[0;31m         \u001b[0;32mreturn\u001b[0m \u001b[0mflag\u001b[0m\u001b[0;34m\u001b[0m\u001b[0m\n\u001b[0m",
      "\u001b[0;31mUnboundLocalError\u001b[0m: local variable 'flag' referenced before assignment"
     ]
    }
   ],
   "source": [
    "val = int(input(\"Enter teh key to search in binary tree:\"))\n",
    "inp = head.search(val)\n",
    "print(inp)\n",
    "if inp == False:\n",
    "    print(f\"inserting value {val}\")\n",
    "    head.insert_node(val)"
   ]
  },
  {
   "cell_type": "code",
   "execution_count": 13,
   "metadata": {},
   "outputs": [],
   "source": [
    "class BinarySearchTree:\n",
    "    def __init__(self):\n",
    "        self.top = None\n",
    "        \n",
    "    def insert(self, data):\n",
    "        self.top = self.recursBST(self.top, data)\n",
    "\n",
    "    def recursBST(self, node, data):            \n",
    "        if node is None:\n",
    "            node = Node(data)                \n",
    "        elif self.top.root > data:\n",
    "            node.left = self.recursBST(node.left, data)\n",
    "        elif  self.top.root < data:\n",
    "            node.right = self.recursBST(node.right, data)\n",
    "\n",
    "        return node\n",
    "\n",
    "\n"
   ]
  },
  {
   "cell_type": "code",
   "execution_count": null,
   "metadata": {},
   "outputs": [],
   "source": []
  }
 ],
 "metadata": {
  "kernelspec": {
   "display_name": "Python 3",
   "language": "python",
   "name": "python3"
  },
  "language_info": {
   "codemirror_mode": {
    "name": "ipython",
    "version": 3
   },
   "file_extension": ".py",
   "mimetype": "text/x-python",
   "name": "python",
   "nbconvert_exporter": "python",
   "pygments_lexer": "ipython3",
   "version": "3.6.5"
  }
 },
 "nbformat": 4,
 "nbformat_minor": 2
}
