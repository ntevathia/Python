{
 "cells": [
  {
   "cell_type": "markdown",
   "metadata": {},
   "source": [
    "### What is recursion?\n",
    "\n",
    "Recursion refers to the process of a function calling itself one or more times.\n",
    "In other words, recursion break down the problem into simple problems which are trivial enough to solve."
   ]
  },
  {
   "cell_type": "markdown",
   "metadata": {},
   "source": [
    "Let's see an example to understand more about recursion."
   ]
  },
  {
   "cell_type": "code",
   "execution_count": 1,
   "metadata": {},
   "outputs": [],
   "source": [
    "def recursive_sum(num_list):\n",
    "    # stoping condition\n",
    "    if len(num_list) == 1:\n",
    "        return num_list[0]\n",
    "    else:\n",
    "        # recursive call\n",
    "        return num_list[0] + recursive_sum(num_list[1:])\n",
    "    "
   ]
  },
  {
   "cell_type": "code",
   "execution_count": 2,
   "metadata": {},
   "outputs": [
    {
     "data": {
      "text/plain": [
       "15"
      ]
     },
     "execution_count": 2,
     "metadata": {},
     "output_type": "execute_result"
    }
   ],
   "source": [
    "sum_value = recursive_sum([1,2,3,4,5])\n",
    "sum_value"
   ]
  },
  {
   "cell_type": "markdown",
   "metadata": {},
   "source": [
    "Function recursive_sum() is trying to solve the problem of finding the sum of all the elements in a list using recursion. Here, we are passing a list of 5 elements to the function whcih in turn calls itself until the stopping condition which, in this case, is when only one element is left in the list and we can't sum that anymore."
   ]
  },
  {
   "cell_type": "markdown",
   "metadata": {},
   "source": [
    "- first call:<br>\n",
    "    input   -> [1,2,3,4,5]<br>\n",
    "    return  -> 1 + [2,3,4,5] : causes second call<br>\n",
    "- second call:<br>\n",
    "    input   -> [2,3,4,5]<br>\n",
    "    return  -> 2 + [3,4,5] : causes third call<br>\n",
    "- third call:<br>\n",
    "    input   -> [3,4,5]<br>\n",
    "    return  -> 3 + [4,5] : causes fourth call<br>\n",
    "- fourth call:<br>\n",
    "    input   -> [4,5]<br>\n",
    "    return  -> 4 + [5] : causes fifth call<br>\n",
    "- fifth call:<br>\n",
    "    input  -> [5] : this time stopping condition is met<br>\n",
    "    return -> 5<br>"
   ]
  },
  {
   "cell_type": "markdown",
   "metadata": {},
   "source": [
    "- fifth call returns 5 to fourth call:\n",
    "return -> 4 + 5 = 9\n",
    "- fourth call return 9 to third call:\n",
    "return -> 3 + 9 = 12\n",
    "- third call return 12 to second call:\n",
    "return -> 2 + 12 = 14\n",
    "- second call return 14 to first call:\n",
    "return -> 1 + 14 = 15\n",
    "\n",
    "Answer : 15\n"
   ]
  },
  {
   "cell_type": "markdown",
   "metadata": {},
   "source": [
    "\n",
    "Theory behind recursion to work properly:\n",
    "Every recursive function must obey 3 rules:\n",
    "- It must have a stopping case, also called base case sometimes.\n",
    "- It must change its state and move towards the stopping case.\n",
    "- It must call itself, recursively."
   ]
  },
  {
   "cell_type": "markdown",
   "metadata": {},
   "source": [
    "### Fibonacci series "
   ]
  },
  {
   "cell_type": "markdown",
   "metadata": {},
   "source": [
    "It's a series of numbers in which each number is the sum of the two preceding numbers and it starts with 0 and 1.\n",
    "\n",
    "We can obtain a fibonacci series with the help of recursion given the input number n so that it can return the first n elements from the series."
   ]
  },
  {
   "cell_type": "code",
   "execution_count": 4,
   "metadata": {},
   "outputs": [],
   "source": [
    "# this function gives the nth element from a fibonacci series\n",
    "def fib_number(n):\n",
    "    if n <= 1:\n",
    "        # base condition : returns 0 and 1 \n",
    "        return n\n",
    "    else:\n",
    "        # sum of n-1 element and n-2 element for nth element\n",
    "        return fib(n-1) + fib(n-2)\n"
   ]
  },
  {
   "cell_type": "code",
   "execution_count": 9,
   "metadata": {},
   "outputs": [
    {
     "name": "stdout",
     "output_type": "stream",
     "text": [
      "Enter the number :10\n",
      "10th element in fibonacci series is : 55\n"
     ]
    }
   ],
   "source": [
    "n = int(input(\"Enter the number :\"))\n",
    "print(f\"{n}th element in fibonacci series is : {fib(n)}\")"
   ]
  },
  {
   "cell_type": "code",
   "execution_count": 11,
   "metadata": {},
   "outputs": [
    {
     "name": "stdout",
     "output_type": "stream",
     "text": [
      "0\n",
      "1\n",
      "1\n",
      "2\n",
      "3\n",
      "5\n",
      "8\n",
      "13\n",
      "21\n",
      "34\n",
      "55\n"
     ]
    }
   ],
   "source": [
    "# Print all the fibonacci numbers till n number of elements\n",
    "\n",
    "for i in range(11):\n",
    "    print(fib(i))"
   ]
  },
  {
   "cell_type": "markdown",
   "metadata": {},
   "source": [
    "### Why recusrion?"
   ]
  },
  {
   "cell_type": "markdown",
   "metadata": {},
   "source": [
    "Recursion can always be replaced with iterative approach but in some cases recursion is better than iteration due to its\n",
    "- elegance\n",
    "- readability\n",
    "\n",
    "Tree traversal for entering a new value or searching a new value is always easier with recursion. Even the in-order, pre-order, post-order arithmatic calculations are much easily done with recursion."
   ]
  },
  {
   "cell_type": "code",
   "execution_count": null,
   "metadata": {},
   "outputs": [],
   "source": []
  }
 ],
 "metadata": {
  "kernelspec": {
   "display_name": "Python 3",
   "language": "python",
   "name": "python3"
  },
  "language_info": {
   "codemirror_mode": {
    "name": "ipython",
    "version": 3
   },
   "file_extension": ".py",
   "mimetype": "text/x-python",
   "name": "python",
   "nbconvert_exporter": "python",
   "pygments_lexer": "ipython3",
   "version": "3.6.8"
  }
 },
 "nbformat": 4,
 "nbformat_minor": 2
}
