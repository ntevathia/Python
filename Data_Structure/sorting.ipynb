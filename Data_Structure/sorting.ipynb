{
 "cells": [
  {
   "cell_type": "markdown",
   "metadata": {},
   "source": [
    "## Bubble sort"
   ]
  },
  {
   "cell_type": "markdown",
   "metadata": {},
   "source": [
    "<img src=\"images/bubble_sort.png\">"
   ]
  },
  {
   "cell_type": "code",
   "execution_count": 23,
   "metadata": {},
   "outputs": [],
   "source": [
    "def bubble_sort(A):\n",
    "    \"\"\"\n",
    "    This algo compares adjacent pairs and swaps them if they are in the wrong order.\n",
    "    The pass through the list is repeated until the list is sorted. \n",
    "    \"\"\"\n",
    "    n = len(A)\n",
    "    flag = True\n",
    "    while flag == True:\n",
    "        flag = False\n",
    "        for i in range(n-1):\n",
    "            if A[i] > A[i+1]:\n",
    "                A[i+1], A[i] = A[i], A[i+1]\n",
    "                flag = True\n",
    "        print(A)    \n",
    "    return A    \n",
    "    "
   ]
  },
  {
   "cell_type": "code",
   "execution_count": 24,
   "metadata": {},
   "outputs": [
    {
     "name": "stdout",
     "output_type": "stream",
     "text": [
      "[10, 32, 1, 32, 45, 8, 67, 51, 71]\n",
      "[10, 1, 32, 32, 8, 45, 51, 67, 71]\n",
      "[1, 10, 32, 8, 32, 45, 51, 67, 71]\n",
      "[1, 10, 8, 32, 32, 45, 51, 67, 71]\n",
      "[1, 8, 10, 32, 32, 45, 51, 67, 71]\n",
      "[1, 8, 10, 32, 32, 45, 51, 67, 71]\n",
      "[1, 8, 10, 32, 32, 45, 51, 67, 71]\n"
     ]
    }
   ],
   "source": [
    "a = [10, 45, 32, 1, 32, 67, 8, 71, 51]\n",
    "A = bubble_sort(a)\n",
    "print(A)"
   ]
  },
  {
   "cell_type": "markdown",
   "metadata": {},
   "source": [
    "## Selection sort"
   ]
  },
  {
   "cell_type": "markdown",
   "metadata": {},
   "source": [
    "<img src=\"images/selection_sort.png\">"
   ]
  },
  {
   "cell_type": "code",
   "execution_count": 150,
   "metadata": {},
   "outputs": [],
   "source": [
    "def selection_sort(A):\n",
    "    \n",
    "    for i in range(len(A)):\n",
    "        max_idx = len(A)-i-1\n",
    "        \n",
    "        for j in range(len(A)-i-1):\n",
    "            if A[max_idx] < A[j]:\n",
    "                max_idx = j\n",
    "         \n",
    "        # replace fixed pos value with the max value \n",
    "        A[len(A)-i-1], A[max_idx] = A[max_idx], A[len(A)-i-1]\n",
    "        print(A)\n",
    "    \n",
    "    return A  "
   ]
  },
  {
   "cell_type": "code",
   "execution_count": 151,
   "metadata": {},
   "outputs": [
    {
     "name": "stdout",
     "output_type": "stream",
     "text": [
      "[10, 45, 32, 1, 32, 67, 8, 51, 71]\n",
      "[10, 45, 32, 1, 32, 51, 8, 67, 71]\n",
      "[10, 45, 32, 1, 32, 8, 51, 67, 71]\n",
      "[10, 8, 32, 1, 32, 45, 51, 67, 71]\n",
      "[10, 8, 32, 1, 32, 45, 51, 67, 71]\n",
      "[10, 8, 1, 32, 32, 45, 51, 67, 71]\n",
      "[1, 8, 10, 32, 32, 45, 51, 67, 71]\n",
      "[1, 8, 10, 32, 32, 45, 51, 67, 71]\n",
      "[1, 8, 10, 32, 32, 45, 51, 67, 71]\n"
     ]
    },
    {
     "data": {
      "text/plain": [
       "[1, 8, 10, 32, 32, 45, 51, 67, 71]"
      ]
     },
     "execution_count": 151,
     "metadata": {},
     "output_type": "execute_result"
    }
   ],
   "source": [
    "a = [10, 45, 32, 1, 32, 67, 8, 71, 51]\n",
    "selection_sort(a)"
   ]
  },
  {
   "cell_type": "markdown",
   "metadata": {},
   "source": [
    "## Insertion sort"
   ]
  },
  {
   "cell_type": "markdown",
   "metadata": {},
   "source": [
    "<img src=\"images/insertion_sort.png\">"
   ]
  },
  {
   "cell_type": "code",
   "execution_count": 155,
   "metadata": {},
   "outputs": [],
   "source": [
    "def insertion_sort(A):\n",
    "    \n",
    "    for i in range(1,len(A)):\n",
    "        key = A[i]\n",
    "        j = i-1 \n",
    "        \n",
    "        while j>=0 and key < A[j]:\n",
    "            A[j+1] = A[j]\n",
    "            j -= 1\n",
    "        A[j+1] = key\n",
    "        \n",
    "        print(A)  \n",
    "    return A"
   ]
  },
  {
   "cell_type": "code",
   "execution_count": 156,
   "metadata": {},
   "outputs": [
    {
     "name": "stdout",
     "output_type": "stream",
     "text": [
      "[10, 45, 32, 1, 32, 67, 8, 71, 51]\n",
      "[10, 32, 45, 1, 32, 67, 8, 71, 51]\n",
      "[1, 10, 32, 45, 32, 67, 8, 71, 51]\n",
      "[1, 10, 32, 32, 45, 67, 8, 71, 51]\n",
      "[1, 10, 32, 32, 45, 67, 8, 71, 51]\n",
      "[1, 8, 10, 32, 32, 45, 67, 71, 51]\n",
      "[1, 8, 10, 32, 32, 45, 67, 71, 51]\n",
      "[1, 8, 10, 32, 32, 45, 51, 67, 71]\n"
     ]
    },
    {
     "data": {
      "text/plain": [
       "[1, 8, 10, 32, 32, 45, 51, 67, 71]"
      ]
     },
     "execution_count": 156,
     "metadata": {},
     "output_type": "execute_result"
    }
   ],
   "source": [
    "a = [10, 45, 32, 1, 32, 67, 8, 71, 51]\n",
    "insertion_sort(a)"
   ]
  },
  {
   "cell_type": "markdown",
   "metadata": {},
   "source": [
    "## Merge Sort"
   ]
  },
  {
   "cell_type": "markdown",
   "metadata": {},
   "source": [
    "<img src=\"images/merge_sort.png\">"
   ]
  },
  {
   "cell_type": "code",
   "execution_count": 171,
   "metadata": {},
   "outputs": [],
   "source": [
    "def merge_sort(A):\n",
    "    if len(A) > 1:\n",
    "        mid = int(len(A)/2)\n",
    "        left = A[:mid]\n",
    "        right = A[mid:]\n",
    "  \n",
    "        merge_sort(left)\n",
    "        merge_sort(right)\n",
    "        \n",
    "        i = j = k = 0\n",
    "        while i<len(left) and j<len(right):\n",
    "            if left[i] < right[j]:\n",
    "                A[k] = left[i]\n",
    "                i += 1\n",
    "            else:\n",
    "                A[k] = right[j]\n",
    "                j += 1\n",
    "            k += 1\n",
    "        \n",
    "        while i<len(left):\n",
    "            A[k] = left[i]\n",
    "            i += 1\n",
    "            k += 1\n",
    "    \n",
    "        while j<len(right):\n",
    "            A[k] = right[j]\n",
    "            j += 1  \n",
    "            k += 1\n",
    "        \n",
    "        print(A)\n",
    "        return A\n",
    "    "
   ]
  },
  {
   "cell_type": "code",
   "execution_count": 172,
   "metadata": {},
   "outputs": [
    {
     "name": "stdout",
     "output_type": "stream",
     "text": [
      "[10, 45]\n",
      "[1, 32]\n",
      "[1, 10, 32, 45]\n",
      "[32, 67]\n",
      "[51, 71]\n",
      "[8, 51, 71]\n",
      "[8, 32, 51, 67, 71]\n",
      "[1, 8, 10, 32, 32, 45, 51, 67, 71]\n"
     ]
    },
    {
     "data": {
      "text/plain": [
       "[1, 8, 10, 32, 32, 45, 51, 67, 71]"
      ]
     },
     "execution_count": 172,
     "metadata": {},
     "output_type": "execute_result"
    }
   ],
   "source": [
    "a = [10, 45, 32, 1, 32, 67, 8, 71, 51]\n",
    "merge_sort(a)"
   ]
  },
  {
   "cell_type": "markdown",
   "metadata": {},
   "source": [
    "## Quick sort"
   ]
  },
  {
   "cell_type": "markdown",
   "metadata": {},
   "source": [
    "<img src=\"images/quick_sort.png\">"
   ]
  },
  {
   "cell_type": "code",
   "execution_count": 71,
   "metadata": {},
   "outputs": [],
   "source": [
    "def partition(A, low, high):\n",
    "    \n",
    "    pivot = A[high] # pick last element as pivot\n",
    "    \n",
    "    # when pivot is duplicate in the data\n",
    "    if A.count(pivot) > 1:\n",
    "        middle = [pivot]*2\n",
    "    else: middle = [pivot]\n",
    "    \n",
    "    left = [a for a in A if a<pivot]\n",
    "    right = [a for a in A if a>pivot]\n",
    "    A[:] = left + middle + right\n",
    "    return len(left)\n",
    "    \n",
    "def quick_sort(A, low, high):\n",
    "    if low>=high: return\n",
    "    pivot = partition(A, low, high)\n",
    "    quick_sort(A, low, pivot-1)\n",
    "    quick_sort(A, pivot+1, high)\n",
    "    "
   ]
  },
  {
   "cell_type": "code",
   "execution_count": 72,
   "metadata": {},
   "outputs": [
    {
     "name": "stdout",
     "output_type": "stream",
     "text": [
      "[1, 8, 10, 32, 32, 45, 51, 67, 71]\n"
     ]
    }
   ],
   "source": [
    "a = [10, 45, 32, 1, 32, 67, 8, 71, 51]\n",
    "quick_sort(a, 0, len(a)-1)\n",
    "print(a)"
   ]
  },
  {
   "cell_type": "code",
   "execution_count": 81,
   "metadata": {},
   "outputs": [],
   "source": [
    "def partition_inplace(A, low, high):\n",
    "    i = low\n",
    "    pivot = A[high]    \n",
    "    for j in range(low, high):  \n",
    "        if A[j] < pivot:   \n",
    "            A[i], A[j] = A[j], A[i]\n",
    "            i += 1  \n",
    "    A[i], A[high] = A[high], A[i]\n",
    "    return i\n",
    "\n",
    "def quick_sort(A, low, high):\n",
    "    if low>=high: return\n",
    "    pivot = partition_inplace(A, low, high)\n",
    "    quick_sort(A, low, pivot-1)\n",
    "    quick_sort(A, pivot+1, high)"
   ]
  },
  {
   "cell_type": "code",
   "execution_count": 82,
   "metadata": {},
   "outputs": [
    {
     "name": "stdout",
     "output_type": "stream",
     "text": [
      "[1, 8, 10, 32, 32, 45, 51, 67, 71]\n"
     ]
    }
   ],
   "source": [
    "a = [10, 45, 32, 1, 67, 8, 71, 32, 51]\n",
    "quick_sort(a, 0, len(a)-1)\n",
    "print(a)"
   ]
  },
  {
   "cell_type": "markdown",
   "metadata": {},
   "source": [
    "## PigeonHole Sort"
   ]
  },
  {
   "cell_type": "markdown",
   "metadata": {},
   "source": [
    "<img src=\"images/pigeonhole_srot.jpg\">"
   ]
  },
  {
   "cell_type": "code",
   "execution_count": 93,
   "metadata": {},
   "outputs": [],
   "source": [
    "def pigeonhole_sort(A):\n",
    "    mx = max(A)\n",
    "    \n",
    "    # create a hole of size = max of A\n",
    "    hole = [0]*(mx+1)\n",
    "    \n",
    "    # count the index\n",
    "    for i in A:\n",
    "        hole[i] += 1\n",
    "        \n",
    "    # fetch in sorted order\n",
    "    l = []\n",
    "    for i in range(len(hole)):\n",
    "        for val in range(hole[i]): \n",
    "            l.append(i) \n",
    "    \n",
    "    return l "
   ]
  },
  {
   "cell_type": "code",
   "execution_count": 94,
   "metadata": {},
   "outputs": [
    {
     "data": {
      "text/plain": [
       "[1, 8, 10, 32, 32, 45, 51, 67, 71]"
      ]
     },
     "execution_count": 94,
     "metadata": {},
     "output_type": "execute_result"
    }
   ],
   "source": [
    "a = [10, 45, 32, 1, 67, 8, 71, 32, 51]\n",
    "pigeonhole_sort(a)"
   ]
  },
  {
   "cell_type": "markdown",
   "metadata": {},
   "source": [
    "## Bucket Sort"
   ]
  },
  {
   "cell_type": "markdown",
   "metadata": {},
   "source": [
    "<img src=\"images/Bucket_Sort.png\">"
   ]
  },
  {
   "cell_type": "code",
   "execution_count": 133,
   "metadata": {},
   "outputs": [],
   "source": [
    "def bucket_sort(A, n_bucket):\n",
    "    mx = max(A)\n",
    "    \n",
    "    # create a bucket of size n_bucket+1\n",
    "    bucket = []\n",
    "    for i in range(n_bucket+1):\n",
    "        bucket.append([])\n",
    "\n",
    "    # assign values to buckets\n",
    "    for a in A:\n",
    "        norm_a = a/mx\n",
    "        i = int(norm_a*n_bucket)\n",
    "        bucket[i].append(a)\n",
    "    \n",
    "    print(bucket)\n",
    "    \n",
    "    # fetch in sorted order\n",
    "    l = []\n",
    "    for i in range(n_bucket+1):\n",
    "        l.extend(sorted(bucket[i])) \n",
    "    \n",
    "    return l "
   ]
  },
  {
   "cell_type": "code",
   "execution_count": 134,
   "metadata": {
    "scrolled": true
   },
   "outputs": [
    {
     "name": "stdout",
     "output_type": "stream",
     "text": [
      "[[10, 1, 8], [], [32, 32], [45, 51], [67], [71]]\n"
     ]
    },
    {
     "data": {
      "text/plain": [
       "[1, 8, 10, 32, 32, 45, 51, 67, 71]"
      ]
     },
     "execution_count": 134,
     "metadata": {},
     "output_type": "execute_result"
    }
   ],
   "source": [
    "a = [10, 45, 32, 1, 67, 8, 71, 32, 51]\n",
    "bucket_sort(a, 5)"
   ]
  },
  {
   "cell_type": "code",
   "execution_count": 138,
   "metadata": {},
   "outputs": [
    {
     "name": "stdout",
     "output_type": "stream",
     "text": [
      "[[7.344124411300779], [], [38.236314597659494], [48.72642680092757, 54.32850260110654], [72.70098961276264, 79.99352176679814], [87.82975477451923, 91.99267024768946, 89.96422309360109], [96.76312712424667]]\n"
     ]
    },
    {
     "data": {
      "text/plain": [
       "[7.344124411300779,\n",
       " 38.236314597659494,\n",
       " 48.72642680092757,\n",
       " 54.32850260110654,\n",
       " 72.70098961276264,\n",
       " 79.99352176679814,\n",
       " 87.82975477451923,\n",
       " 89.96422309360109,\n",
       " 91.99267024768946,\n",
       " 96.76312712424667]"
      ]
     },
     "execution_count": 138,
     "metadata": {},
     "output_type": "execute_result"
    }
   ],
   "source": [
    "import numpy as np\n",
    "\n",
    "# works on decimals too\n",
    "A = np.random.random(size=10) * 100\n",
    "bucket_sort(A, 6)"
   ]
  },
  {
   "cell_type": "markdown",
   "metadata": {},
   "source": [
    "## Bucket sort on strings"
   ]
  },
  {
   "cell_type": "code",
   "execution_count": 142,
   "metadata": {},
   "outputs": [],
   "source": [
    "def bsort_string(A):\n",
    "    size = ord('z') - ord('a') + 1\n",
    "    bucket = []\n",
    "    for i in range(size):\n",
    "        bucket.append([])\n",
    "    \n",
    "    for string in A:\n",
    "        i = ord(string[0])-ord('a')   # fetch the first chracacter of string and place in the respective bucket\n",
    "        bucket[i].append(string)\n",
    "        \n",
    "    l = []\n",
    "    for i in range(size):\n",
    "        l.extend(sorted(bucket[i]))\n",
    "        \n",
    "    return l   "
   ]
  },
  {
   "cell_type": "code",
   "execution_count": 143,
   "metadata": {},
   "outputs": [
    {
     "data": {
      "text/plain": [
       "['ape', 'apple', 'canary', 'cat', 'civet', 'dog', 'zebra']"
      ]
     },
     "execution_count": 143,
     "metadata": {},
     "output_type": "execute_result"
    }
   ],
   "source": [
    "A = ['apple', 'ape', 'zebra', 'cat', 'canary', 'civet', 'dog'] \n",
    "bsort_string(A)"
   ]
  },
  {
   "cell_type": "code",
   "execution_count": null,
   "metadata": {},
   "outputs": [],
   "source": []
  }
 ],
 "metadata": {
  "kernelspec": {
   "display_name": "Python 3",
   "language": "python",
   "name": "python3"
  },
  "language_info": {
   "codemirror_mode": {
    "name": "ipython",
    "version": 3
   },
   "file_extension": ".py",
   "mimetype": "text/x-python",
   "name": "python",
   "nbconvert_exporter": "python",
   "pygments_lexer": "ipython3",
   "version": "3.6.8"
  }
 },
 "nbformat": 4,
 "nbformat_minor": 2
}
